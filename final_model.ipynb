{
  "cells": [
    {
      "cell_type": "code",
      "source": [
        "from google.colab import drive\n",
        "drive.mount('/content/drive')"
      ],
      "metadata": {
        "colab": {
          "base_uri": "https://localhost:8080/"
        },
        "id": "DbVEBr9kWanv",
        "outputId": "279fb212-0edf-44ff-f6b4-12466b04441a"
      },
      "id": "DbVEBr9kWanv",
      "execution_count": 1,
      "outputs": [
        {
          "output_type": "stream",
          "name": "stdout",
          "text": [
            "Mounted at /content/drive\n"
          ]
        }
      ]
    },
    {
      "cell_type": "markdown",
      "source": [
        "# Data Cleaning and EDA\n"
      ],
      "metadata": {
        "id": "uhEyCw2Wjs52"
      },
      "id": "uhEyCw2Wjs52"
    },
    {
      "cell_type": "markdown",
      "source": [
        "Before diving into the analysis, the dataset needed cleaning to ensure its accuracy and reliability. The first step involved handling missing values, particularly in key fields such as job title and description. Any listings that lacked this critical information were removed, while other categorical fields such as industry and employment type were filled with the placeholder “Unknown” to maintain consistency. Text fields like company profile, requirements, and benefits, which often contained missing values, were replaced with \"Not Provided\" to preserve completeness.\n"
      ],
      "metadata": {
        "id": "j4kScf7sjw99"
      },
      "id": "j4kScf7sjw99"
    },
    {
      "cell_type": "code",
      "source": [
        "import pandas as pd\n",
        "import re\n",
        "import matplotlib.pyplot as plt\n",
        "import seaborn as sns"
      ],
      "metadata": {
        "id": "jfO2FX3Qjy9S"
      },
      "id": "jfO2FX3Qjy9S",
      "execution_count": 1,
      "outputs": []
    },
    {
      "cell_type": "code",
      "source": [
        "import pandas as pd\n",
        "import numpy as np\n",
        "import matplotlib.pyplot as plt\n",
        "import seaborn as sns\n",
        "from sklearn.feature_extraction.text import TfidfVectorizer\n",
        "from sklearn.model_selection import train_test_split\n",
        "from sklearn.feature_extraction.text import CountVectorizer\n",
        "from sklearn import metrics"
      ],
      "metadata": {
        "id": "1tox2wrYWeu6"
      },
      "id": "1tox2wrYWeu6",
      "execution_count": 7,
      "outputs": []
    },
    {
      "cell_type": "code",
      "execution_count": 3,
      "id": "2ed50a74",
      "metadata": {
        "colab": {
          "base_uri": "https://localhost:8080/",
          "height": 206
        },
        "id": "2ed50a74",
        "outputId": "c7c08ffb-8a66-424f-d523-3c22a4466ec6"
      },
      "outputs": [
        {
          "output_type": "execute_result",
          "data": {
            "text/plain": [
              "   telecommuting  fraudulent  ratio  \\\n",
              "0          False       False   0.03   \n",
              "1          False       False   0.00   \n",
              "2          False       False   0.00   \n",
              "3          False       False   0.05   \n",
              "4          False       False   0.00   \n",
              "\n",
              "                                                text  character_count  \n",
              "0  marketing intern us, ny, new york were food52,...             2691  \n",
              "1  customer service - cloud video production nz, ...             6152  \n",
              "2  commissioning machinery assistant (cma) us, ia...             2652  \n",
              "3  account executive - washington dc us, dc, wash...             5506  \n",
              "4  bill review manager us, fl, fort worth spotsou...             4008  "
            ],
            "text/html": [
              "\n",
              "  <div id=\"df-68858ca9-4f20-430b-b28b-633e8f3f2662\" class=\"colab-df-container\">\n",
              "    <div>\n",
              "<style scoped>\n",
              "    .dataframe tbody tr th:only-of-type {\n",
              "        vertical-align: middle;\n",
              "    }\n",
              "\n",
              "    .dataframe tbody tr th {\n",
              "        vertical-align: top;\n",
              "    }\n",
              "\n",
              "    .dataframe thead th {\n",
              "        text-align: right;\n",
              "    }\n",
              "</style>\n",
              "<table border=\"1\" class=\"dataframe\">\n",
              "  <thead>\n",
              "    <tr style=\"text-align: right;\">\n",
              "      <th></th>\n",
              "      <th>telecommuting</th>\n",
              "      <th>fraudulent</th>\n",
              "      <th>ratio</th>\n",
              "      <th>text</th>\n",
              "      <th>character_count</th>\n",
              "    </tr>\n",
              "  </thead>\n",
              "  <tbody>\n",
              "    <tr>\n",
              "      <th>0</th>\n",
              "      <td>False</td>\n",
              "      <td>False</td>\n",
              "      <td>0.03</td>\n",
              "      <td>marketing intern us, ny, new york were food52,...</td>\n",
              "      <td>2691</td>\n",
              "    </tr>\n",
              "    <tr>\n",
              "      <th>1</th>\n",
              "      <td>False</td>\n",
              "      <td>False</td>\n",
              "      <td>0.00</td>\n",
              "      <td>customer service - cloud video production nz, ...</td>\n",
              "      <td>6152</td>\n",
              "    </tr>\n",
              "    <tr>\n",
              "      <th>2</th>\n",
              "      <td>False</td>\n",
              "      <td>False</td>\n",
              "      <td>0.00</td>\n",
              "      <td>commissioning machinery assistant (cma) us, ia...</td>\n",
              "      <td>2652</td>\n",
              "    </tr>\n",
              "    <tr>\n",
              "      <th>3</th>\n",
              "      <td>False</td>\n",
              "      <td>False</td>\n",
              "      <td>0.05</td>\n",
              "      <td>account executive - washington dc us, dc, wash...</td>\n",
              "      <td>5506</td>\n",
              "    </tr>\n",
              "    <tr>\n",
              "      <th>4</th>\n",
              "      <td>False</td>\n",
              "      <td>False</td>\n",
              "      <td>0.00</td>\n",
              "      <td>bill review manager us, fl, fort worth spotsou...</td>\n",
              "      <td>4008</td>\n",
              "    </tr>\n",
              "  </tbody>\n",
              "</table>\n",
              "</div>\n",
              "    <div class=\"colab-df-buttons\">\n",
              "\n",
              "  <div class=\"colab-df-container\">\n",
              "    <button class=\"colab-df-convert\" onclick=\"convertToInteractive('df-68858ca9-4f20-430b-b28b-633e8f3f2662')\"\n",
              "            title=\"Convert this dataframe to an interactive table.\"\n",
              "            style=\"display:none;\">\n",
              "\n",
              "  <svg xmlns=\"http://www.w3.org/2000/svg\" height=\"24px\" viewBox=\"0 -960 960 960\">\n",
              "    <path d=\"M120-120v-720h720v720H120Zm60-500h600v-160H180v160Zm220 220h160v-160H400v160Zm0 220h160v-160H400v160ZM180-400h160v-160H180v160Zm440 0h160v-160H620v160ZM180-180h160v-160H180v160Zm440 0h160v-160H620v160Z\"/>\n",
              "  </svg>\n",
              "    </button>\n",
              "\n",
              "  <style>\n",
              "    .colab-df-container {\n",
              "      display:flex;\n",
              "      gap: 12px;\n",
              "    }\n",
              "\n",
              "    .colab-df-convert {\n",
              "      background-color: #E8F0FE;\n",
              "      border: none;\n",
              "      border-radius: 50%;\n",
              "      cursor: pointer;\n",
              "      display: none;\n",
              "      fill: #1967D2;\n",
              "      height: 32px;\n",
              "      padding: 0 0 0 0;\n",
              "      width: 32px;\n",
              "    }\n",
              "\n",
              "    .colab-df-convert:hover {\n",
              "      background-color: #E2EBFA;\n",
              "      box-shadow: 0px 1px 2px rgba(60, 64, 67, 0.3), 0px 1px 3px 1px rgba(60, 64, 67, 0.15);\n",
              "      fill: #174EA6;\n",
              "    }\n",
              "\n",
              "    .colab-df-buttons div {\n",
              "      margin-bottom: 4px;\n",
              "    }\n",
              "\n",
              "    [theme=dark] .colab-df-convert {\n",
              "      background-color: #3B4455;\n",
              "      fill: #D2E3FC;\n",
              "    }\n",
              "\n",
              "    [theme=dark] .colab-df-convert:hover {\n",
              "      background-color: #434B5C;\n",
              "      box-shadow: 0px 1px 3px 1px rgba(0, 0, 0, 0.15);\n",
              "      filter: drop-shadow(0px 1px 2px rgba(0, 0, 0, 0.3));\n",
              "      fill: #FFFFFF;\n",
              "    }\n",
              "  </style>\n",
              "\n",
              "    <script>\n",
              "      const buttonEl =\n",
              "        document.querySelector('#df-68858ca9-4f20-430b-b28b-633e8f3f2662 button.colab-df-convert');\n",
              "      buttonEl.style.display =\n",
              "        google.colab.kernel.accessAllowed ? 'block' : 'none';\n",
              "\n",
              "      async function convertToInteractive(key) {\n",
              "        const element = document.querySelector('#df-68858ca9-4f20-430b-b28b-633e8f3f2662');\n",
              "        const dataTable =\n",
              "          await google.colab.kernel.invokeFunction('convertToInteractive',\n",
              "                                                    [key], {});\n",
              "        if (!dataTable) return;\n",
              "\n",
              "        const docLinkHtml = 'Like what you see? Visit the ' +\n",
              "          '<a target=\"_blank\" href=https://colab.research.google.com/notebooks/data_table.ipynb>data table notebook</a>'\n",
              "          + ' to learn more about interactive tables.';\n",
              "        element.innerHTML = '';\n",
              "        dataTable['output_type'] = 'display_data';\n",
              "        await google.colab.output.renderOutput(dataTable, element);\n",
              "        const docLink = document.createElement('div');\n",
              "        docLink.innerHTML = docLinkHtml;\n",
              "        element.appendChild(docLink);\n",
              "      }\n",
              "    </script>\n",
              "  </div>\n",
              "\n",
              "\n",
              "    <div id=\"df-f4b8751a-28de-43d0-bbb0-49408e59e52a\">\n",
              "      <button class=\"colab-df-quickchart\" onclick=\"quickchart('df-f4b8751a-28de-43d0-bbb0-49408e59e52a')\"\n",
              "                title=\"Suggest charts\"\n",
              "                style=\"display:none;\">\n",
              "\n",
              "<svg xmlns=\"http://www.w3.org/2000/svg\" height=\"24px\"viewBox=\"0 0 24 24\"\n",
              "     width=\"24px\">\n",
              "    <g>\n",
              "        <path d=\"M19 3H5c-1.1 0-2 .9-2 2v14c0 1.1.9 2 2 2h14c1.1 0 2-.9 2-2V5c0-1.1-.9-2-2-2zM9 17H7v-7h2v7zm4 0h-2V7h2v10zm4 0h-2v-4h2v4z\"/>\n",
              "    </g>\n",
              "</svg>\n",
              "      </button>\n",
              "\n",
              "<style>\n",
              "  .colab-df-quickchart {\n",
              "      --bg-color: #E8F0FE;\n",
              "      --fill-color: #1967D2;\n",
              "      --hover-bg-color: #E2EBFA;\n",
              "      --hover-fill-color: #174EA6;\n",
              "      --disabled-fill-color: #AAA;\n",
              "      --disabled-bg-color: #DDD;\n",
              "  }\n",
              "\n",
              "  [theme=dark] .colab-df-quickchart {\n",
              "      --bg-color: #3B4455;\n",
              "      --fill-color: #D2E3FC;\n",
              "      --hover-bg-color: #434B5C;\n",
              "      --hover-fill-color: #FFFFFF;\n",
              "      --disabled-bg-color: #3B4455;\n",
              "      --disabled-fill-color: #666;\n",
              "  }\n",
              "\n",
              "  .colab-df-quickchart {\n",
              "    background-color: var(--bg-color);\n",
              "    border: none;\n",
              "    border-radius: 50%;\n",
              "    cursor: pointer;\n",
              "    display: none;\n",
              "    fill: var(--fill-color);\n",
              "    height: 32px;\n",
              "    padding: 0;\n",
              "    width: 32px;\n",
              "  }\n",
              "\n",
              "  .colab-df-quickchart:hover {\n",
              "    background-color: var(--hover-bg-color);\n",
              "    box-shadow: 0 1px 2px rgba(60, 64, 67, 0.3), 0 1px 3px 1px rgba(60, 64, 67, 0.15);\n",
              "    fill: var(--button-hover-fill-color);\n",
              "  }\n",
              "\n",
              "  .colab-df-quickchart-complete:disabled,\n",
              "  .colab-df-quickchart-complete:disabled:hover {\n",
              "    background-color: var(--disabled-bg-color);\n",
              "    fill: var(--disabled-fill-color);\n",
              "    box-shadow: none;\n",
              "  }\n",
              "\n",
              "  .colab-df-spinner {\n",
              "    border: 2px solid var(--fill-color);\n",
              "    border-color: transparent;\n",
              "    border-bottom-color: var(--fill-color);\n",
              "    animation:\n",
              "      spin 1s steps(1) infinite;\n",
              "  }\n",
              "\n",
              "  @keyframes spin {\n",
              "    0% {\n",
              "      border-color: transparent;\n",
              "      border-bottom-color: var(--fill-color);\n",
              "      border-left-color: var(--fill-color);\n",
              "    }\n",
              "    20% {\n",
              "      border-color: transparent;\n",
              "      border-left-color: var(--fill-color);\n",
              "      border-top-color: var(--fill-color);\n",
              "    }\n",
              "    30% {\n",
              "      border-color: transparent;\n",
              "      border-left-color: var(--fill-color);\n",
              "      border-top-color: var(--fill-color);\n",
              "      border-right-color: var(--fill-color);\n",
              "    }\n",
              "    40% {\n",
              "      border-color: transparent;\n",
              "      border-right-color: var(--fill-color);\n",
              "      border-top-color: var(--fill-color);\n",
              "    }\n",
              "    60% {\n",
              "      border-color: transparent;\n",
              "      border-right-color: var(--fill-color);\n",
              "    }\n",
              "    80% {\n",
              "      border-color: transparent;\n",
              "      border-right-color: var(--fill-color);\n",
              "      border-bottom-color: var(--fill-color);\n",
              "    }\n",
              "    90% {\n",
              "      border-color: transparent;\n",
              "      border-bottom-color: var(--fill-color);\n",
              "    }\n",
              "  }\n",
              "</style>\n",
              "\n",
              "      <script>\n",
              "        async function quickchart(key) {\n",
              "          const quickchartButtonEl =\n",
              "            document.querySelector('#' + key + ' button');\n",
              "          quickchartButtonEl.disabled = true;  // To prevent multiple clicks.\n",
              "          quickchartButtonEl.classList.add('colab-df-spinner');\n",
              "          try {\n",
              "            const charts = await google.colab.kernel.invokeFunction(\n",
              "                'suggestCharts', [key], {});\n",
              "          } catch (error) {\n",
              "            console.error('Error during call to suggestCharts:', error);\n",
              "          }\n",
              "          quickchartButtonEl.classList.remove('colab-df-spinner');\n",
              "          quickchartButtonEl.classList.add('colab-df-quickchart-complete');\n",
              "        }\n",
              "        (() => {\n",
              "          let quickchartButtonEl =\n",
              "            document.querySelector('#df-f4b8751a-28de-43d0-bbb0-49408e59e52a button');\n",
              "          quickchartButtonEl.style.display =\n",
              "            google.colab.kernel.accessAllowed ? 'block' : 'none';\n",
              "        })();\n",
              "      </script>\n",
              "    </div>\n",
              "\n",
              "    </div>\n",
              "  </div>\n"
            ],
            "application/vnd.google.colaboratory.intrinsic+json": {
              "type": "dataframe",
              "variable_name": "df",
              "summary": "{\n  \"name\": \"df\",\n  \"rows\": 17102,\n  \"fields\": [\n    {\n      \"column\": \"telecommuting\",\n      \"properties\": {\n        \"dtype\": \"boolean\",\n        \"num_unique_values\": 2,\n        \"samples\": [\n          true,\n          false\n        ],\n        \"semantic_type\": \"\",\n        \"description\": \"\"\n      }\n    },\n    {\n      \"column\": \"fraudulent\",\n      \"properties\": {\n        \"dtype\": \"boolean\",\n        \"num_unique_values\": 2,\n        \"samples\": [\n          true,\n          false\n        ],\n        \"semantic_type\": \"\",\n        \"description\": \"\"\n      }\n    },\n    {\n      \"column\": \"ratio\",\n      \"properties\": {\n        \"dtype\": \"number\",\n        \"std\": 0.0837847857885226,\n        \"min\": 0.0,\n        \"max\": 2.0,\n        \"num_unique_values\": 29,\n        \"samples\": [\n          2.0,\n          0.25\n        ],\n        \"semantic_type\": \"\",\n        \"description\": \"\"\n      }\n    },\n    {\n      \"column\": \"text\",\n      \"properties\": {\n        \"dtype\": \"string\",\n        \"num_unique_values\": 16796,\n        \"samples\": [\n          \"caregiver - buchanan/niles us, mi, buchanan our mission to our clients is to preserve their independence, enhance their quality of life, promote health amp wellbeing and have them consider us a part of their family. home sweet home in-home care is one of the fastest growing home care agencies in southwest michigan! our constant growth is attributed to excellent client and employee service. join our team and you will be treated as a valued employee, not just a number.\\u00a0we hold a strong belief that our caregivers are the heart of\\u00a0our company. we offer flexible schedules, a strong support team, and the ability to work from part time to full time.we are\\u00a0currently seeking responsible individuals with a heartfelt desire to assist seniors or disabled individuals safely perform activities of daily living. this position may entailassistance with walking and exercisemenu planning and meal preparationgrocery shopping, errands and escorting clients to and from appointments, etc.personal carelight housekeeping laundrycompanionshipmedication reminders\\u00a0starting pay is competitive with 90 and 180 day performance reviews. it is important that applicants be familiar with and close to the service areas in an effort to schedule clients effectively and efficiently.\\u00a0experience is preferred but we will train the right person.   competitive compensation with performance reviewspaid orientation and trainingsmileage reimbursementflexible schedules   high school or equivalent hospital & health care health care provider\",\n          \"armed security officer (immediate openings) us, mo, st. louis at smgi we believe that our people are the difference. working for smgi is a great opportunity for our employees to learn and grow in their career, while supporting clients in communities where they live. our company pledge to our clients is your satisfaction is our success. our ability to accomplish this goal is based primarily on the people we hire.there is no firm like smgi.\\u00a0we employ only the most qualified individualsand they choose to remain with us for many years. we have one of the lowest turnover rates in the industry. this is a result of our commitment to our team. only satisfied employees can provide the exceptional customer service our clients deserve.at smgi we have a unique pay structure. employees have the opportunity to take classes and additional training to increase their base wage. our employees learn and grow with us. as a result, our clients receive the best service in the industry. in addition, we develop and promote our security officers into supervisory and management positions at smgi. our employees have career advancement opportunities that are real and attainable.\\u00a0we recruit highly qualified and highly skilled personnel, including professionals from the private sector as well as former u.s. military and law enforcement. we search for people of the highest caliber accountability, integrity and professionalism.at smgi, our people are the difference. smgi employment opportunitiessecurity management group international smgi, inc. currently has exciting career opportunities for qualified candidates in the private security industry in the\\u00a0st. louis, missouri\\u00a0regions. setting the industry standard for integrity means having dedicated and professional people to serve our clients our skilled officers are the reason why we are regarded as one of the most trusted risk management and protection firms in the world.a career at smgi means youll benefit from an employee retention plan where continued training is available to help you evolve personally and professionally, and one that recognizes individual and team achievements with a merit-based competitive pay program.\\u00a0 you will work alongside industry veterans, as well as motivated and career orientated newcomers, and become an integral part of a growing family and ever evolving firm dedicated to protecting our clients.smgi leads the industry in mitigating risk to our clients.\\u00a0 examples of the services smgi provides are\\u00a0 uniform armedunarmed security plain-clothes security physical and electronic surveillance due diligence and business investigations workplace violence prevention disaster preparedness and emergency response planning and services personalexecutive protection maritime security and gsafederal government assignments. what are we looking for?\\u00a0smgi employs highly trained protection professionals, including uniformed and plain-clothes officers. we are currently welcoming candidates for security officer positions. our ideal candidates for the security officer so position are excellent with internalexternal customer service and can communicate in an extraordinary manner. if you are looking to join a dynamic, customer service oriented team and are striving for excellence, this is the opportunity for you.security officers have the responsibility to provide security to various types of facilities. these duties include, but are not limited tofollowing the instructions outlined in site specific post orders and direction by the security management teamobserve and report any type of suspicious activities andor individualsrespond to any emergency situations that require security assistanceenforce policies, procedures, rules, and regulations\\u00a0in order to become a security officer so at smgi, you must be able to meet the following criteriaminimum requirements so18 years of agestand, walk continuously on multiple types of surfaces\\u00a0could be for an entire shift, running may be needed in certain\\u00a0situationsoccasionally climb ladders, stairs, or ramps during the\\u00a0shiftcan lift or carry up to 40 poundswork in various environments such as the cold, rain, or\\u00a0heatmust obtain and maintain state guard license credentials for the state in which you are applying to for example, ca\\u00a0bsis guard card, wa dol security officer licenseemployee must carry all required licenses at all times\\u00a0while on dutysubmit to and successfully pass a comprehensive\\u00a0background investigation, including drug screeninggood to intermediate computerwireless device skills to\\u00a0utilize various types of technology at specific client locationsbe able to speak, read and write effectively in englishmeet and successfully interact with co-workers, supervisors, clients, and the publicunderstand and apply designated post ordersmust be mentally alert at all timesmust be attention to detail orientedbe able to maintain self-control and professionalism in stressful situationshave a high school diploma or ged equivalentu.s. citizenship is required due to government contract\\u00a0assignmentsbe able to demonstrate a stable work and employment historyhonorable discharge from the military, if you served in\\u00a0the armed forcesthree 3 years experience in the security industry or\\u00a0related field law enforcement, military, etcin order to become a protective security officer pso at smgi, you must be able to meet all security officer requirements above, as well as the following criteriaminimum requirements pso21 years of ageoc  pepper spray permit, handcuff training\\u00a0certificate, asp or baton permit ca onlyexposed firearms permitpreferred requirementscarry concealed weapon ccw permitmulti-language skillscurrent government clearance\\u00a0advanced certificationtrainingfirst aid  cpr trainedprivate investigator licensetransportation workers identification card twicpolice officer standard test graduate\\u00a0college degreeprior law enforcement, military, or security pay\\u00a0 30.00 per hourif you meet all of the above requirements, we encourage you to apply online. please send copies of required certificates to the smgi operations manager,\\u00a0ralph cabuco\\u00a0emailf106d0bba06554f1e3db294331fc3c0d3508ba93f43e2dbc7e6a4e27bc2c37e4,\\u00a0after submitting your application online.smgi is an equal opportunity employer.   high school or equivalent security and investigations  \"\n        ],\n        \"semantic_type\": \"\",\n        \"description\": \"\"\n      }\n    },\n    {\n      \"column\": \"character_count\",\n      \"properties\": {\n        \"dtype\": \"number\",\n        \"std\": 1458,\n        \"min\": 93,\n        \"max\": 14914,\n        \"num_unique_values\": 5204,\n        \"samples\": [\n          918,\n          2470\n        ],\n        \"semantic_type\": \"\",\n        \"description\": \"\"\n      }\n    }\n  ]\n}"
            }
          },
          "metadata": {},
          "execution_count": 3
        }
      ],
      "source": [
        "df=pd.read_csv(r\"/content/drive/MyDrive/ds project/jobs_cleaned.csv\")\n",
        "df.head()"
      ]
    },
    {
      "cell_type": "code",
      "execution_count": 4,
      "id": "ba633371",
      "metadata": {
        "id": "ba633371"
      },
      "outputs": [],
      "source": [
        "X = df[['telecommuting', 'ratio', 'text', 'character_count']]\n",
        "y = df['fraudulent']\n",
        "X_train, X_test, y_train, y_test = train_test_split(X, y, test_size=0.33, random_state=53)\n",
        "X_train_numeric = X_train[['telecommuting', 'ratio', 'character_count']]\n",
        "X_test_numeric = X_test[['telecommuting', 'ratio', 'character_count']]"
      ]
    },
    {
      "cell_type": "code",
      "execution_count": 5,
      "id": "6b55360d",
      "metadata": {
        "id": "6b55360d"
      },
      "outputs": [],
      "source": [
        "count_vectorizer = CountVectorizer(stop_words='english')\n",
        "text_train = count_vectorizer.fit_transform(X_train.text.values)\n",
        "text_test = count_vectorizer.transform(X_test.text.values)"
      ]
    },
    {
      "cell_type": "code",
      "execution_count": 14,
      "id": "d07010ce",
      "metadata": {
        "colab": {
          "base_uri": "https://localhost:8080/"
        },
        "id": "d07010ce",
        "outputId": "f87987f1-61b3-418b-e09f-07d33a8a702a"
      },
      "outputs": [
        {
          "output_type": "stream",
          "name": "stdout",
          "text": [
            "SGD accuracy on text features 0.9874202693125443\n",
            "SGD f1 score on text features 0.7953890489913544\n",
            "SGD precision on text features 0.8961038961038961\n",
            "SGD recall on text features 0.7150259067357513\n",
            "\n",
            "SGD accuracy on numeric features 0.9658043940467753\n",
            "SGD f1 score on numeric features 0.0\n",
            "SGD precision on numeric features 0.0\n",
            "SGD recall on numeric features 0.0\n"
          ]
        },
        {
          "output_type": "stream",
          "name": "stderr",
          "text": [
            "/usr/local/lib/python3.11/dist-packages/sklearn/metrics/_classification.py:1565: UndefinedMetricWarning: Precision is ill-defined and being set to 0.0 due to no predicted samples. Use `zero_division` parameter to control this behavior.\n",
            "  _warn_prf(average, modifier, f\"{metric.capitalize()} is\", len(result))\n"
          ]
        }
      ],
      "source": [
        "from sklearn.linear_model import SGDClassifier\n",
        "\n",
        "clf_log = SGDClassifier(loss='log_loss').fit(text_train, y_train)\n",
        "pred_log = clf_log.predict(text_test)\n",
        "print(\"SGD accuracy on text features\", metrics.accuracy_score(y_test, pred_log))\n",
        "print(\"SGD f1 score on text features\", metrics.f1_score(y_test, pred_log))\n",
        "print(\"SGD precision on text features\", metrics.precision_score(y_test, pred_log))\n",
        "print(\"SGD recall on text features\", metrics.recall_score(y_test, pred_log))\n",
        "\n",
        "clf_num = SGDClassifier(loss='log_loss').fit(X_train_numeric, y_train)\n",
        "pred_num = clf_num.predict(X_test_numeric)\n",
        "print(\"\\nSGD accuracy on numeric features\", metrics.accuracy_score(y_test, pred_num))\n",
        "print(\"SGD f1 score on numeric features\", metrics.f1_score(y_test, pred_num))\n",
        "print(\"SGD precision on numeric features\", metrics.precision_score(y_test, pred_num))\n",
        "print(\"SGD recall on numeric features\", metrics.recall_score(y_test, pred_num))"
      ]
    },
    {
      "cell_type": "code",
      "source": [
        "from sklearn.metrics import confusion_matrix\n",
        "\n",
        "cf_matrix = confusion_matrix(y_test, pred_log)\n",
        "group_names = [\"True Neg\",\"False Pos\", \"False Neg\", \"True Pos\"]\n",
        "group_counts = [\"{0:0.0f}\".format(value) for value in\n",
        "                cf_matrix.flatten()]\n",
        "group_percentages = [\"{0:.2%}\".format(value) for value in\n",
        "                      cf_matrix.flatten()/np.sum(cf_matrix)]\n",
        "labels = [f'{v1}\\n{v2}\\n{v3}' for v1, v2, v3 in\n",
        "          zip(group_names,group_counts,group_percentages)]\n",
        "labels = np.asarray(labels).reshape(2,2)\n",
        "sns.heatmap(cf_matrix, annot=labels, fmt='', cmap='Blues')"
      ],
      "metadata": {
        "colab": {
          "base_uri": "https://localhost:8080/",
          "height": 447
        },
        "id": "Bu-GTsAtYzvp",
        "outputId": "061de199-1d67-4d6d-831d-fa45542710c9"
      },
      "id": "Bu-GTsAtYzvp",
      "execution_count": 9,
      "outputs": [
        {
          "output_type": "execute_result",
          "data": {
            "text/plain": [
              "<Axes: >"
            ]
          },
          "metadata": {},
          "execution_count": 9
        },
        {
          "output_type": "display_data",
          "data": {
            "text/plain": [
              "<Figure size 640x480 with 2 Axes>"
            ],
            "image/png": "[encoded data removed]"
          },
          "metadata": {}
        }
      ]
    },
    {
      "cell_type": "code",
      "source": [
        "yo"
      ],
      "metadata": {
        "id": "vxZM7TcQY1BG"
      },
      "id": "vxZM7TcQY1BG",
      "execution_count": null,
      "outputs": []
    },
    {
      "cell_type": "code",
      "execution_count": 13,
      "id": "5e5fdae1",
      "metadata": {
        "id": "5e5fdae1"
      },
      "outputs": [],
      "source": [
        "from gpt4all import Embed4All\n",
        "import torch\n",
        "import torch.nn as nn\n",
        "import torch.nn.functional as F\n",
        "import re\n",
        "import inflect"
      ]
    },
    {
      "cell_type": "code",
      "execution_count": 14,
      "id": "62ad4f26",
      "metadata": {
        "colab": {
          "base_uri": "https://localhost:8080/"
        },
        "id": "62ad4f26",
        "outputId": "36693be0-19e9-426c-f6ee-5b609d29fe98"
      },
      "outputs": [
        {
          "output_type": "stream",
          "name": "stderr",
          "text": [
            "Downloading: 100%|██████████| 45.9M/45.9M [00:00<00:00, 80.0MiB/s]\n",
            "Verifying: 100%|██████████| 45.9M/45.9M [00:00<00:00, 560MiB/s]\n"
          ]
        },
        {
          "output_type": "stream",
          "name": "stdout",
          "text": [
            "1000\n",
            "2000\n",
            "3000\n",
            "4000\n",
            "5000\n",
            "6000\n",
            "7000\n",
            "8000\n",
            "9000\n",
            "10000\n",
            "11000\n"
          ]
        }
      ],
      "source": [
        "feature_extractor = Embed4All()\n",
        "\n",
        "train_texts = X_train['text'].values\n",
        "val_texts = X_test['text'].values\n",
        "\n",
        "train_embeddings = []\n",
        "val_embeddings = []\n",
        "\n",
        "count=0\n",
        "# Training sample embeddings\n",
        "for text in train_texts:\n",
        "  embeddings = feature_extractor.embed(text)\n",
        "  train_embeddings.append(embeddings)\n",
        "  count+=1\n",
        "  if count%1000==0:\n",
        "    print(count)\n",
        "\n",
        "# Validation sample embeddings\n",
        "for text in val_texts:\n",
        "    embeddings_val = feature_extractor.embed(text)\n",
        "    val_embeddings.append(embeddings_val)\n",
        "\n",
        "# Convert labels to tensor\n",
        "train_labels = torch.tensor(y_train.values)\n",
        "val_labels = torch.tensor(y_test.values)\n",
        "\n"
      ]
    },
    {
      "cell_type": "code",
      "source": [
        "print(train_labels.shape)\n",
        "print(val_labels.shape)\n",
        "print(train_embeddings[:5])\n",
        "print(val_embeddings[:5])"
      ],
      "metadata": {
        "colab": {
          "base_uri": "https://localhost:8080/"
        },
        "id": "vSF6XKbEuSHQ",
        "outputId": "e6d14578-ddc2-4b08-cd82-9da38ce13c76"
      },
      "id": "vSF6XKbEuSHQ",
      "execution_count": 15,
      "outputs": [
        {
          "output_type": "stream",
          "name": "stdout",
          "text": [
            "torch.Size([11458])\n",
            "torch.Size([5644])\n",
            "[[-0.029285259544849396, -0.02064445987343788, -0.018705042079091072, -0.016481081023812294, -0.10712459683418274, 0.05292040854692459, 0.020922411233186722, 0.043292563408613205, -0.09073556214570999, -0.013271255418658257, -0.04501045495271683, -0.0646730363368988, 0.035408589988946915, 0.02799197845160961, 0.08635234087705612, 0.04187116399407387, 0.06464831531047821, -0.06915651261806488, -0.06895775347948074, -0.08499922603368759, -0.017869608476758003, -0.09914872795343399, -0.013337422162294388, -0.0840916559100151, -0.008157394826412201, -0.015789823606610298, 0.015420706011354923, -0.023967325687408447, -0.04686256870627403, -0.06442971527576447, 0.05451276898384094, 0.10083385556936264, 0.010453240014612675, 0.03354783356189728, -0.0007749904762022197, 0.06502459198236465, -0.041356779634952545, -0.026645168662071228, 0.06578720360994339, -0.006479504983872175, -0.0532824732363224, -0.07084079086780548, -0.0896790623664856, -0.005072621162980795, 0.049790721386671066, -0.014245321974158287, 0.01619742624461651, 0.031097006052732468, -0.02327193133533001, -0.016573723405599594, -0.1545950323343277, -0.12757928669452667, 0.036560773849487305, 0.025085685774683952, -0.03685774281620979, 0.020151780918240547, 0.027841297909617424, 0.006952929310500622, -0.052689824253320694, -0.05436582490801811, -0.021439237520098686, 0.021368196234107018, -0.016816623508930206, -0.00210775644518435, 0.004872014280408621, -0.0782744511961937, -0.06180635839700699, 0.08809485286474228, -0.053593799471855164, -0.00891526136547327, 0.013392730616033077, -0.0970352292060852, -0.09745007753372192, 0.015783987939357758, 0.01750064268708229, 0.015031442977488041, 0.04931802675127983, 0.026205332949757576, 0.08352899551391602, -0.047988150268793106, 0.03398361802101135, 0.07495510578155518, -0.043080899864435196, 0.06407057493925095, -0.1106320172548294, -0.04423930123448372, -0.03742748126387596, 0.03462586924433708, 0.046935416758060455, -0.019353074952960014, -0.044704828411340714, -0.01821148954331875, 0.012005794793367386, -0.0060280682519078255, 0.08418675512075424, 0.004317319951951504, -0.06297677010297775, -0.013828523457050323, 0.012688891962170601, 0.07291023433208466, 0.02544289082288742, 0.05007684603333473, 0.0018220453057438135, -0.0008858515066094697, -0.1014540046453476, 0.04757095128297806, 0.00029527259175665677, 0.12049784511327744, 0.09193281829357147, -0.019776849076151848, -0.053743571043014526, 0.018291864544153214, -0.055370230227708817, -0.07100797444581985, -0.020306620746850967, 0.02302330918610096, -0.06617111712694168, 0.08291193097829819, 0.13450361788272858, 0.015475252643227577, 0.05665877088904381, 0.13741666078567505, -0.04486526548862457, -0.049574438482522964, -0.017467591911554337, -0.017101114615797997, -0.025611918419599533, 1.1004557138483867e-32, 0.04809880629181862, 0.049804966896772385, -0.0066695143468678, 0.07600702345371246, 0.04489437863230705, -0.0070116533897817135, 0.042368777096271515, 0.020988257601857185, -0.08350279927253723, -0.03453419357538223, -0.02543730102479458, 0.10228133946657181, -0.004444462712854147, 0.0016444841166958213, 0.0781262069940567, -0.08554491400718689, -0.054117631167173386, 0.06660737842321396, 0.06295816600322723, -0.020337287336587906, 0.021697120741009712, -0.06106771156191826, -0.018590537831187248, 0.02348635531961918, 0.03555849939584732, -0.03723440319299698, 0.04023782163858414, 0.05390201508998871, 0.015439057722687721, 0.008299597539007664, 0.008370866067707539, 0.026141256093978882, -0.08528974652290344, -0.053893789649009705, -0.03320544213056564, -0.053896453231573105, -0.059432994574308395, -0.08993855863809586, 0.03649269416928291, 0.04248231649398804, -0.09045124799013138, 0.024346956983208656, -0.028987709432840347, -0.03721505030989647, -0.004066379275172949, -0.00671126926317811, 0.05555161461234093, -0.011015510186553001, 0.0398610383272171, 0.015228974632918835, 0.003482858883216977, -0.05411362648010254, 0.06136591359972954, 0.007070989813655615, -0.02840692363679409, 0.058960922062397, 0.046191826462745667, -0.04373877868056297, 0.004164292011409998, 0.011598359793424606, -0.07769365608692169, -0.00854568276554346, -0.004393577575683594, -0.024219349026679993, -0.038892414420843124, 0.006773547735065222, 0.04956229403614998, 0.00760470237582922, 0.02290625497698784, 0.011179015971720219, -0.0631701797246933, 0.014571652747690678, 0.10478195548057556, -0.06052282080054283, -0.025150611996650696, 0.01872924156486988, -0.005430646240711212, 0.015742147341370583, 0.009816148318350315, 0.021774012595415115, 0.016336584463715553, 0.027016501873731613, 0.011079780757427216, -0.06335574388504028, 0.03173477202653885, 0.03666330873966217, 0.07865729182958603, -0.08629123866558075, 0.02711045928299427, 0.13014298677444458, -0.06529529392719269, 0.013837846927344799, -0.030240662395954132, 0.10601189732551575, 0.09442909061908722, -9.915875984205683e-33, -0.02775665558874607, -0.0404510423541069, -0.025839436799287796, 0.022231686860322952, 0.08966001123189926, 0.01291035208851099, 0.06212164834141731, -0.05174277722835541, -0.04800427332520485, -0.0378757007420063, -0.037819430232048035, 0.0012516169808804989, 0.05869409069418907, 0.030244601890444756, -0.06187789887189865, -0.016518207266926765, 0.041151661425828934, -0.031142227351665497, 0.0037499195896089077, 0.09677862375974655, 0.06552445888519287, 0.06126769632101059, -0.09500609338283539, 0.034180399030447006, 0.05917999520897865, 0.05436476692557335, -0.04885563254356384, 0.005905642174184322, 0.013840287923812866, 0.005330574233084917, -0.0038817073218524456, -0.06466585397720337, -0.1059437170624733, -0.05139796435832977, 0.00365752587094903, -0.02514924854040146, -0.023004934191703796, -0.07854095846414566, -0.009024865925312042, 0.042690787464380264, 0.04246159642934799, -0.0454568974673748, -0.012936852872371674, -2.0920064343954436e-05, 0.0011226886417716742, 0.027803989127278328, 0.015006083063781261, -0.07451832294464111, -0.014371369034051895, -0.023595573380589485, 0.05175847187638283, 0.07806024700403214, -0.07094663381576538, -0.006132253911346197, -0.014846482314169407, -0.049492139369249344, 0.07777940481901169, -0.04964907839894295, -0.052617188543081284, 0.0213544350117445, 0.04690392315387726, 0.02505914866924286, 0.10937915742397308, 0.022510487586259842, 0.05575230345129967, -0.031615011394023895, 0.029710786417126656, 0.0718669444322586, -0.08341870456933975, -0.039802975952625275, -0.055774301290512085, 0.019453128799796104, 0.030487343668937683, -0.08483096957206726, -0.04664817824959755, 0.01430253591388464, -0.004117237403988838, -0.09993959963321686, -0.019946208223700523, 0.037940748035907745, 0.0020674511324614286, 0.07666023820638657, 0.04281599074602127, -0.0073176599107682705, 0.008405058644711971, 0.04488793760538101, -0.011863559484481812, -0.005694493651390076, 0.012588685378432274, -0.07497934997081757, -0.10543873906135559, -0.015421643853187561, -0.005363687872886658, 0.024870615452528, 0.04522545263171196, -7.501457588432459e-08, -0.04070693254470825, -0.04776672273874283, -0.03936781361699104, 0.003327686805278063, 0.014588374644517899, -0.08471512049436569, -0.07096228003501892, 0.04794096201658249, 0.0860186293721199, 0.037881381809711456, -0.02911067195236683, -0.03955266252160072, -0.0371297150850296, 0.06376250088214874, 0.10977733880281448, 0.017956411466002464, 0.028071291744709015, 0.042136792093515396, -0.03161090612411499, -0.014511773362755775, 0.08481811732053757, 0.03376377746462822, -0.03082875721156597, -0.0055105239152908325, 0.002305062022060156, -0.001125244190916419, 0.014275875873863697, 0.010688455775380135, 0.02931588888168335, 0.03670339658856392, -0.013430802151560783, -0.035189684480428696, 0.011067358776926994, -0.016046645119786263, 0.052352529019117355, -0.09786707907915115, 0.046040624380111694, 0.027260158210992813, 0.006848863326013088, 0.04045257344841957, -0.060560330748558044, 0.028908921405673027, 0.009852410294115543, 0.033774711191654205, -0.015766803175210953, -0.008905533701181412, -0.11770614236593246, 0.028336545452475548, 0.004120974335819483, 0.030490407720208168, -0.03349363058805466, -0.05318247154355049, 0.031106537207961082, 0.004927908070385456, 0.047982264310121536, 0.008609055541455746, 0.004559414926916361, -0.046976424753665924, -0.01793067343533039, 0.10074365139007568, 0.007894261740148067, -0.11608050763607025, -0.024423372000455856, 0.04807772487401962], [-0.01267890352755785, -0.05443352088332176, -0.01667967438697815, -0.03951527550816536, 0.04621574282646179, -0.018783558160066605, 0.047029126435518265, 0.04445021227002144, -0.004158307798206806, 0.00942438468337059, -0.051754191517829895, -0.03766201436519623, 0.047807756811380386, 0.04262334480881691, 0.06402220577001572, 0.03396341949701309, 0.0032342050690203905, -0.03610275313258171, -0.04401698708534241, 0.011317869648337364, 0.04956040531396866, -0.03059619478881359, 0.027057304978370667, -0.027903452515602112, -0.09269729256629944, -0.02414596825838089, 0.02263963222503662, -0.016005361452698708, -0.061801325529813766, -0.09490224719047546, 0.059654414653778076, 0.10046965628862381, 0.043524857610464096, 0.010785491205751896, 0.08249898999929428, 0.12180093675851822, -0.03707924485206604, 0.014556088484823704, 0.025821233168244362, -0.047299809753894806, -0.05466658994555473, -0.047774504870176315, -0.02287142351269722, -0.03478299081325531, 0.009916170500218868, -0.09855814278125763, 0.021503569558262825, 0.012862254865467548, -0.06426886469125748, 0.05761546269059181, -0.11942493915557861, -0.13659808039665222, -0.06756579130887985, -0.040989331901073456, -0.03702641651034355, 0.054106418043375015, 0.0174830574542284, 0.03919630125164986, -0.012071344070136547, -0.05639544874429703, 0.01673547737300396, 0.028465909883379936, -0.05608915165066719, 0.014594604261219501, 0.013344233855605125, -0.01728643849492073, -0.036537494510412216, 0.07778976112604141, -0.07349051535129547, -0.04723234102129936, 0.0982290580868721, -0.08782830834388733, -0.04419823735952377, 0.015966128557920456, 0.04714493080973625, 0.03526255488395691, 0.06084765866398811, 0.015507377684116364, 0.06222619488835335, -0.059218887239694595, 0.09501691907644272, 0.07357168197631836, -0.10577744245529175, 0.028937535360455513, -0.09262420982122421, -0.06714297831058502, -0.03872735798358917, -0.0013770349323749542, 0.0329287014901638, 0.0018740176456049085, -0.00692448066547513, -0.006323989015072584, -0.021385621279478073, 0.02491396851837635, 0.08433747291564941, -0.07567887753248215, 0.03880177438259125, 0.008018922992050648, 0.005539082922041416, 0.059567272663116455, -0.08716524392366409, 0.01703607104718685, -0.009501147083938122, -0.012866468168795109, -0.09266023337841034, -0.003090676385909319, 0.02393822930753231, 0.07822224497795105, 0.016632946208119392, 0.015441495925188065, -0.01983674429357052, 0.02342718467116356, -0.08752282708883286, -0.04744933918118477, 0.1056705191731453, -0.025108784437179565, -0.09999065101146698, 0.04793359711766243, 0.10459405183792114, -0.07650826126337051, 0.00028685631696134806, 0.06521343439817429, 0.028204530477523804, -0.05155560001730919, -0.032807860523462296, -0.045568738132715225, 0.016746124252676964, 8.198564695678725e-33, 0.015956999734044075, 0.09801606833934784, -0.008842695504426956, 0.07944130152463913, 0.04363801330327988, -0.023300932720303535, 0.02703036554157734, 0.09762828052043915, -0.12009618431329727, -0.00731670530512929, 0.03130344673991203, 0.08886974304914474, -0.029576808214187622, 0.06285223364830017, 0.0256225373595953, -0.10020483285188675, -0.016553478315472603, 0.014688631519675255, 0.02131820097565651, -0.030599607154726982, -0.048928674310445786, -0.009895254857838154, 0.006985624320805073, -0.012693176046013832, 0.037073537707328796, -0.03739749640226364, 0.02474944293498993, 0.023307016119360924, -0.0022612533066421747, 0.02777102217078209, -0.019524360075592995, 0.04538543149828911, -0.05353192985057831, -0.005942493211477995, -0.043753206729888916, -0.008925721980631351, -0.10830935835838318, -0.1268656998872757, 0.05188734456896782, 0.043494533747434616, -0.0870366096496582, 0.024440167471766472, -0.051906242966651917, -0.007001194171607494, 0.0029443895909935236, 0.06573578715324402, 0.06298914551734924, 2.4641483832965605e-05, -0.004954702220857143, 0.1058148443698883, 0.024501970037817955, -0.042887523770332336, 0.015427016653120518, 0.03655451908707619, -0.009012437425553799, -0.008505492471158504, 0.025780458003282547, -0.04656095802783966, 0.05951713025569916, -0.009653449058532715, 0.003334409324452281, 0.0255146361887455, -0.06268404424190521, 0.006883653812110424, -0.004232438746839762, -0.0034439959563314915, 0.06729953736066818, -0.07067853212356567, 0.08592464029788971, -0.03250502049922943, -0.062327947467565536, -0.026954742148518562, 0.08169560879468918, -0.020044103264808655, -0.08207464218139648, -0.003712609177455306, -0.042575087398290634, 0.046983759850263596, 0.010533256456255913, 0.058642685413360596, -0.07536830753087997, 0.06580758094787598, -0.0253001656383276, -0.0035137066151946783, 0.011833353899419308, 0.03827304393053055, 0.06625967472791672, -0.042646098881959915, -0.044761549681425095, 0.10359283536672592, -0.0009602481732144952, -0.006983923260122538, -0.03722618147730827, 0.07271264493465424, 0.053196851164102554, -7.631241734613118e-33, -0.008357333019375801, -0.04642393812537193, -0.019084151834249496, 0.06926057487726212, 0.08627203851938248, -0.05193338170647621, 0.007175099570304155, -0.05962350592017174, -0.0015499118017032743, -0.03239038586616516, -0.03788895159959793, -0.026823952794075012, -0.04439961537718773, 0.003346129087731242, -0.06861130893230438, -0.02585815079510212, 0.04556017741560936, -0.0546635240316391, -0.03486718237400055, 0.019369283691048622, 0.06494157761335373, 0.1375844031572342, -0.049215953797101974, -0.01929178461432457, 0.03571246564388275, 0.05559912696480751, -0.030304372310638428, 0.05627650395035744, 0.031707338988780975, -0.03969002887606621, 0.04006293788552284, -0.015378899872303009, -0.08902417868375778, -0.06163416802883148, -0.002423807978630066, 0.005763021297752857, 0.0034212046302855015, -0.07744020968675613, 0.0028325847815722227, 0.0789637565612793, 0.0527493841946125, -0.00934605486690998, -0.006656123790889978, -0.0006448813364841044, 0.010327862575650215, -0.042719580233097076, 0.016995185986161232, -0.044183216989040375, -0.009597016498446465, 0.006981398910284042, 0.04787937551736832, 0.011990648694336414, -0.018015386536717415, -0.05088675022125244, 0.04467073455452919, 0.016972271725535393, 0.0978597104549408, -0.021972719579935074, 0.03373752161860466, -0.02355383150279522, 0.11385973542928696, 0.0540948249399662, 0.04841918870806694, 0.013409439474344254, 0.04898955300450325, -0.01788313500583172, 0.029866769909858704, 0.047657981514930725, -0.0815032348036766, 0.004608125891536474, -0.04261205345392227, 0.023162832483649254, -0.005519060883671045, -0.1157362312078476, -0.11247848719358444, -0.0648166835308075, -0.07122323662042618, -0.030782576650381088, 0.023912906646728516, -0.03136914595961571, -0.07552189379930496, 0.06623537838459015, 0.009755163453519344, -0.01598699577152729, -0.02677997201681137, 0.06767332553863525, 0.02371571958065033, -0.01109663862735033, -0.021957775577902794, -0.03777656704187393, -0.06583399325609207, -0.02163238264620304, -0.0017946339212357998, 0.056573715060949326, -0.0154811330139637, -7.276209146311885e-08, -0.043544702231884, -0.016742931678891182, -0.05698324367403984, -0.045019909739494324, 0.03681157901883125, -0.02936910092830658, -0.02809232659637928, 0.02433447539806366, 0.09300831705331802, 0.031144747510552406, 0.07760685682296753, -0.05193828418850899, -0.06823627650737762, 0.09626991301774979, 0.05854184925556183, -0.02348623424768448, 0.0035904799588024616, 0.028846459463238716, -0.08569154143333435, -0.04283182695508003, 0.08841665089130402, 0.07337319105863571, -0.07232237607240677, -0.009440521709620953, -0.007242986466735601, -0.044315267354249954, -0.006966684479266405, 0.0010235127992928028, 0.005098388995975256, 0.04709920287132263, -0.04875820875167847, -0.0002857310464605689, -0.014081762172281742, -0.04940551891922951, 0.028212551027536392, -0.03376312553882599, 0.07811515778303146, -0.01420319639146328, -0.026337631046772003, 0.07163833826780319, -0.01021883636713028, 0.01426828745752573, 0.046401988714933395, 0.04919622093439102, -0.04456748440861702, -0.061278678476810455, -0.04235280305147171, 0.06530000269412994, -0.012743988074362278, 0.007615517824888229, -0.12282068282365799, -0.00758188683539629, -0.0372261218726635, 0.007223648950457573, 0.015829505398869514, -0.011325460858643055, 0.011426959186792374, 0.0373673252761364, -0.051141880452632904, 0.10579431056976318, 0.026704490184783936, -0.054781846702098846, 0.0028109499253332615, 0.031027652323246002], [-0.03169441968202591, 0.01564798690378666, -0.027846435084939003, 0.013781631365418434, -0.0397537536919117, 0.025875238701701164, -0.0794743075966835, -0.017683111131191254, -0.10593673586845398, 0.014138398692011833, 0.03586414456367493, -0.05124833434820175, -9.570202382747084e-05, 0.08349797874689102, 0.025444641709327698, 0.07002634555101395, 0.02498605102300644, -0.05896414816379547, 0.01911655068397522, -0.0657421424984932, -0.015671292319893837, -0.0639909952878952, -0.013739791698753834, -0.08212026953697205, -0.011090784333646297, -0.038086600601673126, 0.03781306743621826, -0.06887058913707733, -0.016771817579865456, 0.02342805825173855, 0.08530746400356293, -0.0024500233121216297, -0.057186223566532135, -0.04422086477279663, 0.09057619422674179, 0.09034398943185806, 0.05701632797718048, 0.03818666934967041, 0.01245091948658228, 0.02612118050456047, -0.009420283138751984, -0.07389868795871735, -0.08905119448900223, -0.06067949905991554, 0.00558501249179244, -0.02417578175663948, 0.06259308010339737, -0.02782188169658184, -0.020835448056459427, -0.018892038613557816, -0.05442071333527565, -0.07018227875232697, 0.06385701894760132, -0.020618172362446785, -0.06313541531562805, 0.002065482083708048, -0.03847849369049072, -0.028763508424162865, -0.015422039665281773, -0.0864332988858223, -0.049122996628284454, 0.02005438320338726, -0.07126398384571075, -0.06614617258310318, -0.019989997148513794, -0.06153851002454758, -0.04258102551102638, 0.052133709192276, 0.01561790332198143, -0.05294342339038849, 0.041402146220207214, -0.05967743694782257, -0.04348120093345642, 0.006114816293120384, 0.04840943217277527, 0.060894425958395004, 0.07517470419406891, 0.061872370541095734, 0.12985609471797943, -0.11183560639619827, 0.07800460606813431, 0.09537085145711899, -0.06830400973558426, 0.03560640662908554, -0.050373584032058716, -0.06097669154405594, 0.041828762739896774, 0.00945819728076458, 0.016755448654294014, 0.041242893785238266, 0.0349225290119648, -0.045822303742170334, -0.036749474704265594, 0.06176565960049629, 0.0969175174832344, -0.05395928770303726, 0.03264174982905388, 0.04116996005177498, 0.032595667988061905, 0.009835569187998772, -0.07866720855236053, -0.05506186932325363, 0.0029516792856156826, 0.05825866013765335, -0.11103891581296921, 0.025682482868433, -0.04893488436937332, 0.03277912363409996, 0.06447456777095795, 0.02478853613138199, 0.01699194684624672, 0.0625949576497078, -0.08761011809110641, -0.027667727321386337, 0.05177006125450134, 0.046738747507333755, -0.0891200378537178, 0.007071382831782103, -0.019280754029750824, 0.053215738385915756, 0.027973299846053123, 0.08950217813253403, -0.056661006063222885, -0.0009557672892697155, 0.050148095935583115, -0.0697518140077591, -0.0174257792532444, 5.4843434641842627e-33, 0.0014146891189739108, 0.05626426637172699, -0.03324286639690399, 0.05893808230757713, 0.052544523030519485, -0.007350636646151543, 0.09181271493434906, 0.019672397524118423, -0.02236698381602764, 0.07224325835704803, 0.03490370139479637, 0.10029648244380951, 0.010948220267891884, -0.027372118085622787, 0.004460473544895649, -0.025834377855062485, 0.0017073689959943295, 0.012953786179423332, -0.03716348111629486, 0.005060218274593353, 0.011853724718093872, -0.0072441501542925835, -0.04931335151195526, 0.0130630386993289, 0.0678701400756836, -0.036365460604429245, 0.02126988209784031, -0.006769455038011074, 0.05483178421854973, 0.015193812549114227, 0.07173708826303482, 0.028021326288580894, -0.07814313471317291, -0.05466059222817421, -0.021282456815242767, -0.07787656784057617, -0.04898892343044281, -0.08269886672496796, -0.02343025431036949, -0.08427605777978897, -0.059280164539813995, 0.00395212834700942, 0.13789500296115875, 0.0038701090961694717, -0.010739197954535484, -0.02117292210459709, 0.055902592837810516, -0.022638976573944092, -0.02097862958908081, 0.08006197959184647, -0.017659645527601242, -0.02478487603366375, -0.03525083139538765, -0.08474290370941162, 0.03959000110626221, -0.030769705772399902, 0.039432719349861145, 0.06085241585969925, -0.024475784972310066, -0.13531948626041412, 0.03978486359119415, -0.04275602847337723, -0.025863628834486008, 0.0198991559445858, -0.08441489934921265, -0.051231589168310165, 0.00915079191327095, -0.030027510598301888, 0.13443782925605774, -0.03989270329475403, -0.0018304893746972084, 0.06882334500551224, -0.00592617504298687, -0.03591977059841156, -0.03743598982691765, -0.014600815251469612, 0.05258733406662941, 0.06009660288691521, 0.06763198226690292, 0.061454229056835175, 0.02217896282672882, 0.02993474341928959, -0.04768740013241768, -0.0032729380764067173, 0.11986943334341049, -0.016605503857135773, 0.017380863428115845, -0.08341842144727707, 0.07127644866704941, -0.0015792108606547117, -0.04155294969677925, -0.06934624165296555, -0.032199155539274216, 0.10270796716213226, 0.015375182963907719, -6.475877724548662e-33, 0.09251630306243896, -0.026143766939640045, 0.04995470121502876, -0.08265186846256256, 0.10006916522979736, 0.06208498775959015, 0.0482957623898983, -0.041710637509822845, -0.0008172554662451148, 0.03505651652812958, -0.04620993137359619, 0.014804051257669926, -0.019268937408924103, 0.025180824100971222, -0.057741083204746246, -0.06553772836923599, -0.006377944257110357, 0.05192704126238823, 0.04683539271354675, -0.016877049580216408, 0.01739349029958248, 0.14070354402065277, -0.05805319547653198, 0.006527725141495466, 0.06199294701218605, -0.06587444245815277, 0.0012990239774808288, 0.07665728777647018, -0.031906288117170334, 0.05688362568616867, 0.008898952044546604, -0.038765329867601395, -0.010598789900541306, -0.03426008298993111, -0.06295939534902573, -0.0444006621837616, 0.04894145578145981, -0.038873348385095596, -0.03503044694662094, 0.029113534837961197, 0.06887959688901901, -0.02024860307574272, 0.03971217945218086, 0.01351530198007822, -0.03472662717103958, -0.09330885112285614, 0.05429494008421898, 0.01101758237928152, 0.02580226957798004, 0.037872202694416046, 0.04191914200782776, 0.052534401416778564, 0.022610804066061974, 0.03195969760417938, 0.03253067284822464, -0.005282702390104532, 0.02706112712621689, -0.04913526773452759, 0.0008637240971438587, -0.005727017298340797, 0.05014495179057121, -0.010651746764779091, 0.011527558788657188, 0.048068299889564514, 0.04129622504115105, -0.06325642019510269, -0.07010839134454727, 0.01769951917231083, -0.06022940203547478, -0.00173327571246773, -0.03151305764913559, -0.021251345053315163, 0.08996289223432541, -0.08361653238534927, -0.03017115406692028, -0.05239647254347801, 0.02835508994758129, -0.01940235123038292, 0.012038073502480984, -0.039535120129585266, -0.04810059815645218, -0.06597591191530228, 0.0025260041002184153, 0.023966100066900253, 0.022554412484169006, 0.04354067146778107, 0.08766184002161026, 8.66331101860851e-05, 0.03417634218931198, 0.004200486000627279, 0.033302050083875656, -0.08521145582199097, 0.09188512712717056, 0.01102257240563631, 0.04520157352089882, -5.7867708846970345e-08, 0.023662088438868523, 0.025610826909542084, -0.08035623282194138, 0.03462661802768707, 0.04312879219651222, -0.06161363422870636, -0.09432786703109741, -0.023602483794093132, 0.04329397529363632, 0.061185434460639954, 0.01741689443588257, 0.025760121643543243, -0.034746769815683365, -0.05852321535348892, 0.027768103405833244, -0.010368936695158482, 0.004019121173769236, -0.026115354150533676, -0.051311299204826355, 0.015587172470986843, 0.05734321475028992, -0.005801907740533352, -0.038919951766729355, 0.09139745682477951, -0.04431803524494171, -0.04993513599038124, -0.013794251717627048, -0.002418278018012643, -0.030428757891058922, -0.03219515457749367, -0.03394282981753349, 0.020185574889183044, 0.012757859192788601, -0.0859505906701088, -0.03392534703016281, -0.015988025814294815, 0.0055317566730082035, -0.007563927676528692, -0.005414673127233982, -0.027051469311118126, 0.0005482883425429463, -0.06732703745365143, 0.086171455681324, -0.028477665036916733, 0.004838100168853998, 0.03591220825910568, -0.12068247050046921, -0.03746927157044411, 0.03952118009328842, 0.0034799163695424795, -0.07956963032484055, -0.03338352218270302, 0.05438829958438873, -0.08801635354757309, 0.09937867522239685, 0.024356938898563385, 0.028587643057107925, 0.02064947411417961, 0.005998497363179922, 0.07230576872825623, 0.08048214763402939, -0.01640680618584156, 0.005254688672721386, 0.01627175509929657], [-0.03150579333305359, -0.015117322094738483, 0.024562153965234756, 0.012976354919373989, -0.06445836275815964, 0.037307702004909515, 0.019085124135017395, 0.026552148163318634, -0.02716078609228134, -0.02550695650279522, -0.036922574043273926, 0.0020483708940446377, 0.016554465517401695, 0.03523720055818558, 0.026054229587316513, -0.0532417930662632, 0.06968491524457932, -0.0028901088517159224, -0.006444649770855904, 0.0984075516462326, 0.020748324692249298, 0.039167556911706924, -0.03597671911120415, 0.08859368413686752, -0.0507798045873642, -0.024567270651459694, -0.03319193795323372, -0.07445023208856583, -0.042376041412353516, -0.010641446337103844, 0.035702332854270935, 0.045247163623571396, 0.042829759418964386, -0.009270046837627888, 0.0370231457054615, 0.05940302833914757, -0.04045477509498596, 0.002408922417089343, -0.02725367248058319, -0.00948324054479599, -0.057625144720077515, 0.032935768365859985, 0.03471866622567177, 0.020472900941967964, -0.00033131911186501384, -0.06283708661794662, -0.0239375252276659, -0.011965703219175339, 0.049380235373973846, 0.0345601961016655, -0.055917251855134964, -0.030641328543424606, 0.013286993838846684, 0.08350333571434021, -0.00877207051962614, 0.05249396711587906, 0.005695013329386711, -0.03775845468044281, -0.03272690623998642, 0.04929191991686821, -0.0014274752466008067, 0.038196299225091934, 0.021456940099596977, 0.007223186083137989, 0.015398836694657803, -0.028272202238440514, -0.01669434644281864, -0.024146243929862976, 0.027251195162534714, -0.05768785625696182, -0.047967374324798584, -0.03707972913980484, 0.017178039997816086, 0.11396805197000504, 0.06477043777704239, 0.01777416467666626, 0.06467410922050476, -0.028427287936210632, 0.09128567576408386, -0.03388446196913719, -0.00533937057480216, 0.08482365310192108, 0.005282706115394831, 0.05133171007037163, -0.07090221345424652, 0.007636149413883686, -0.08854664862155914, 0.04340488463640213, 0.02804155834019184, -0.03722921386361122, 0.056545477360486984, 0.04902209714055061, -0.06616637110710144, -0.10593457520008087, 0.07850375026464462, -0.07791110128164291, -0.010900597088038921, -0.042965877801179886, 0.019198186695575714, 0.03519576042890549, 0.08723803609609604, -0.07938069850206375, 0.03561871498823166, 0.029614945873618126, -0.025383761152625084, 0.017224080860614777, -0.008094205521047115, 0.03392976522445679, -0.032058969140052795, 0.07310906052589417, 0.01693756878376007, -0.033608488738536835, 0.01050870306789875, -0.06744492053985596, -0.056961461901664734, 0.08621636033058167, -0.04912307858467102, 0.009872565045952797, 0.0808938592672348, -0.0005788533599115908, 0.010103674605488777, 0.01401975005865097, 0.010787099599838257, -0.11139803379774094, 0.06658117473125458, -0.03287632763385773, 0.11773316562175751, 5.8992547664581284e-33, 0.027298305183649063, 0.02578444592654705, 0.05032772943377495, -0.028204550966620445, -0.014194399118423462, -0.019692877307534218, 0.021910404786467552, -0.02525271661579609, -0.007530416827648878, -0.046903252601623535, 0.030322061851620674, 0.11990116536617279, 0.028262078762054443, 0.0004705133615061641, -0.07966161519289017, -0.007337731309235096, -0.09369562566280365, 0.05994631350040436, -0.052438728511333466, 0.09133317321538925, -0.032542139291763306, -0.02140524610877037, -0.07458250969648361, 0.07997972518205643, -0.05969280004501343, 0.011335257440805435, -0.016042830422520638, -0.0017718201270326972, -0.03292500227689743, 0.0031780204735696316, -0.009804579429328442, 0.04991637542843819, 0.01725245639681816, -0.010382265783846378, -0.003322505857795477, -0.03728043660521507, -0.028562093153595924, -0.03759650141000748, -0.013881145976483822, -0.09607257694005966, -0.01693260855972767, 0.05134299769997597, 0.057370979338884354, 0.0434756837785244, 0.05725640058517456, -0.07034450769424438, 0.07303162664175034, -0.014509263448417187, -0.04707493633031845, 0.05762854591012001, -0.013908756896853447, -0.09734444320201874, -0.05248767137527466, -0.010822524316608906, -0.011710571125149727, 0.06042971462011337, 0.006229747086763382, 0.05604955926537514, 0.07358508557081223, 0.039860375225543976, 0.07399854063987732, -0.015648050233721733, -0.03840302675962448, 0.009815521538257599, 0.05879577249288559, -0.09739888459444046, 0.027899179607629776, -0.07670443505048752, 0.08217356353998184, -0.021787727251648903, -0.03566277027130127, 0.02166830562055111, 0.06098922714591026, 0.026410099118947983, -0.01892007328569889, 0.018336141481995583, -0.03877023980021477, -0.014169193804264069, -0.0767960175871849, 0.06337613612413406, -0.07028955221176147, 0.05040571093559265, -0.03137930855154991, 0.011964787729084492, 0.1367844194173813, 0.0064061228185892105, -0.03864903748035431, 0.011679884977638721, -0.13804872334003448, 0.007814731448888779, 0.00501303281635046, 0.027027299627661705, 0.10958495736122131, 0.07762376964092255, 0.005283002275973558, -6.174736643019132e-33, -0.018027132377028465, -0.04377221316099167, -0.00038569304160773754, 0.025991514325141907, -0.0247474517673254, -0.06139866262674332, -0.04632201045751572, -0.06847024708986282, 0.029217947274446487, -0.055494170635938644, -0.024666795507073402, -0.0017525653820484877, -0.007173290941864252, -0.019233210012316704, -0.027082666754722595, 0.04145272821187973, -0.057636842131614685, 0.04181704670190811, -0.07029677927494049, 0.06675703823566437, 0.036172669380903244, 0.13318824768066406, -0.08620822429656982, 0.01070578396320343, 0.07409362494945526, 0.03531432896852493, -0.035182759165763855, 0.08526831120252609, 0.07269556820392609, -0.017700763419270515, -0.01808372512459755, -0.040656425058841705, -0.04663674533367157, 0.016665175557136536, -0.0338759608566761, -0.08607132732868195, -0.00847107358276844, -0.003522325772792101, -0.02652386575937271, 0.047616176307201385, 0.08271604776382446, -0.05494806170463562, -0.02511478215456009, -0.007493877317756414, -0.02745775319635868, -0.022683627903461456, 0.015925345942378044, -0.07824160903692245, -0.007910598069429398, 0.014241103082895279, -0.021268127486109734, -0.04869042709469795, -0.049491528421640396, 0.01948929950594902, -0.008433599956333637, -0.0327458381652832, 0.013995462097227573, -0.018638841807842255, -0.07439876347780228, -0.07312095165252686, 0.13265152275562286, 0.1205768808722496, -0.04149274155497551, 0.08691172301769257, 0.05708707869052887, 0.008565575815737247, -0.03277038037776947, -0.0007477404433302581, -0.009553922340273857, -0.001789276720955968, -0.11462000757455826, -0.06616461277008057, 0.02731356956064701, -0.0788879543542862, 0.009838500060141087, 0.0027099894359707832, 0.0313103049993515, -0.059673767536878586, -0.048303037881851196, 0.05012696981430054, -0.05311588943004608, -0.06602504104375839, -0.023196326568722725, 0.08379608392715454, -0.04031672328710556, -0.0025073434226214886, -0.029841044917702675, -0.06707488000392914, 0.01784372143447399, 0.10723891109228134, -0.04477636516094208, 0.007940263487398624, -0.07904909551143646, -0.021891923621296883, -0.09601631760597229, -5.827520510592876e-08, 0.05231628194451332, -0.013072545640170574, -0.003209134563803673, -0.044623520225286484, -0.04769439995288849, -0.06221972778439522, -0.04249890148639679, 0.03132572025060654, -0.012838899157941341, 0.13485190272331238, 0.03678783401846886, -0.01412427518516779, 0.007760120555758476, -0.09351018071174622, 0.02665458619594574, -0.008474261499941349, 0.049607306718826294, 0.10933113098144531, -0.09830939769744873, -0.025793837383389473, -0.059277504682540894, -0.07682588696479797, -0.03556039184331894, 0.021201375871896744, -0.06071428209543228, 0.040706317871809006, -0.023828819394111633, 0.03759250044822693, 0.01334911398589611, -5.9200727264396846e-05, 0.011626485735177994, -0.017360562458634377, 0.012285635806620121, -0.04885286092758179, -0.025737855583429337, -0.08379870653152466, -0.005275565665215254, -0.03509901836514473, 0.02824540063738823, 0.0836666151881218, 0.008123368956148624, 0.04913331940770149, -0.01129256933927536, -0.01197332888841629, 0.000523190014064312, -0.0300219114869833, -0.003499876242130995, -0.06766021996736526, 0.005027294158935547, -0.030554182827472687, -0.005846490152180195, -0.034019701182842255, 0.004940819460898638, -0.04632849618792534, -0.07555168122053146, 0.15443219244480133, 0.10025494545698166, -0.032650597393512726, -0.044044848531484604, 0.1019739955663681, -0.0029843435622751713, 0.029363876208662987, 0.08101912587881088, 0.009428439661860466], [-0.11557246744632721, -0.01494760625064373, -0.023819543421268463, -0.017331009730696678, -0.021380549296736717, 0.0004695798852480948, 0.01358672883361578, 0.03307463601231575, -0.017718644812703133, -0.0335833765566349, -0.08548501878976822, -0.07095276564359665, 0.0009622005163691938, -0.01543985866010189, -0.02211480215191841, -0.029211988672614098, 0.036246154457330704, -0.0028721343260258436, -0.0288524329662323, -0.05562536045908928, 0.03107592463493347, -0.10732142627239227, 0.018502255901694298, -0.06842757016420364, -0.12588787078857422, -0.07650986313819885, 0.02757258526980877, 0.003967144060879946, -0.02992836758494377, -0.017369011417031288, 0.00662698969244957, 0.07373803853988647, 0.0058103506453335285, 0.026313167065382004, 0.022162001579999924, 0.10611633956432343, -0.10393985360860825, -0.052453845739364624, 0.04358798637986183, 0.030071351677179337, -0.0391627661883831, -0.04526975378394127, -0.018527502194046974, -0.03906051069498062, 0.0003945725329685956, -0.08100270479917526, 0.02670469507575035, -0.016832051798701286, -0.05987582728266716, -0.041141998022794724, -0.1155426949262619, -0.059327442198991776, 0.005352199077606201, 0.023744136095046997, -0.041954707354307175, 0.03846454992890358, 0.04151701554656029, -0.02840881049633026, -0.03582993522286415, -0.001337778172455728, 0.025556880980730057, 0.026150330901145935, -0.06139858067035675, 0.026037324219942093, 0.0007680969429202378, -0.014747130684554577, -0.02121157944202423, -0.00030562790925614536, 0.060257427394390106, -0.13313329219818115, -0.03428267687559128, -0.07792326807975769, -0.16565768420696259, 0.029166193678975105, -0.014424263499677181, 0.06645744293928146, 0.031000327318906784, 0.013043902814388275, 0.07150984555482864, -0.05109328404068947, 0.043785709887742996, -0.006278214044868946, -0.0527304969727993, 0.033937111496925354, -0.03979646414518356, 0.020330525934696198, 0.024224935099482536, 0.051663588732481, 0.030829625204205513, 0.05210895091295242, 0.08967157453298569, 0.04633944854140282, -0.0908341258764267, -0.013281418941915035, 0.03001069277524948, 0.009514578618109226, 0.06924853473901749, 0.09885221719741821, 0.016715098172426224, 0.025065172463655472, 0.003841300727799535, 0.005459493957459927, -0.03575285151600838, 0.02506462298333645, -0.14252465963363647, 0.06054885312914848, -0.0664069652557373, 0.027169303968548775, 0.016985001042485237, 0.00915772095322609, -0.08452726155519485, -0.0026167044416069984, -0.0645437240600586, -0.004058800172060728, -0.03245828300714493, 0.042366012930870056, -0.061229951679706573, -0.0068222833797335625, -0.007216280326247215, -0.029551632702350616, -0.0002251093537779525, 0.06496141105890274, -0.04243190586566925, -0.04017914459109306, -0.0546417236328125, -0.03742886707186699, 0.04055531695485115, 1.1218613925084637e-32, 0.009236576966941357, 0.008104716427624226, 0.033229440450668335, 0.015146675519645214, -0.029408087953925133, 0.03395244851708412, -0.00987670011818409, 0.048859767615795135, 0.0006803576834499836, -0.04474668949842453, -0.09010935574769974, 0.0297537874430418, -0.005126043688505888, -0.07179518789052963, -0.10256034135818481, -0.03204222768545151, 0.05799811705946922, 0.07430535554885864, -0.044595472514629364, 0.01769961789250374, -0.005549078807234764, -0.042912039905786514, -0.07722584158182144, 0.059938691556453705, 0.1376390904188156, 0.03460230305790901, -0.038820330053567886, 0.004373967181891203, -0.04181613773107529, 0.01852591335773468, -0.011250346899032593, -0.013040971010923386, -0.062283456325531006, -0.00703210337087512, 0.06620445847511292, -0.00607901019975543, -0.08324875682592392, -0.05704135447740555, -0.0028035391587764025, -0.05470932647585869, -0.06419650465250015, 0.033697571605443954, 0.03403405845165253, 0.06611969321966171, -0.03569584712386131, -0.010672464966773987, -0.011981653980910778, 0.02960788831114769, 0.08820921182632446, 0.06496584415435791, -0.07651398330926895, 0.006448252126574516, 0.034548498690128326, -0.018108706921339035, 0.00031934393336996436, 0.027034420520067215, 0.07094975560903549, -0.011173861101269722, -0.01495298370718956, 0.10373951494693756, -0.03464561700820923, 0.03781116381287575, -0.1132456362247467, -6.863461021566764e-05, 0.055718280375003815, -0.12235578149557114, -0.07372921705245972, -0.06606042385101318, 0.15435852110385895, -0.017697248607873917, -0.05280313268303871, 0.03199830278754234, 0.1902790516614914, 0.019354604184627533, -0.017056964337825775, -0.024308808147907257, -0.021523239091038704, 0.045807693153619766, -0.08982379734516144, 0.05404236540198326, 0.0025230252649635077, 0.040322717279195786, 0.0034469610545784235, -0.06831932812929153, 0.05463259667158127, -0.02240467257797718, 0.05097315460443497, -0.02849152684211731, -0.012799039483070374, 0.050710033625364304, -0.004366996232420206, -0.03181663528084755, -0.019541416317224503, 0.07356153428554535, 0.04582487791776657, -1.3859563287614484e-32, 0.012938396073877811, -0.05829055979847908, -0.0003351694322191179, -0.029767297208309174, 0.05698578432202339, -0.0009152113343589008, 0.035433080047369, -0.03752787783741951, 0.026024404913187027, 0.02760382927954197, -0.008217121474444866, 0.01164016779512167, 0.004207103978842497, -0.04495782405138016, -0.09394723922014236, 0.020022546872496605, -0.0003488592046778649, -0.021668044850230217, -0.04214184358716011, 0.02666293829679489, 0.06110122427344322, 0.08159926533699036, -0.05897119268774986, 0.05737942457199097, -0.005914911162108183, -0.029366694390773773, 0.1009896770119667, -0.019970281049609184, -0.05349891632795334, 0.028327234089374542, 0.013399085961282253, -0.04536411911249161, -0.11349420249462128, 0.07889603078365326, -0.04265613481402397, -0.06469696015119553, 0.033932339400053024, 0.046365633606910706, 0.05186142399907112, 0.0757511630654335, 0.09265459328889847, -0.019138354808092117, -0.06307891756296158, -0.011630848981440067, -0.04536570608615875, -0.06182461977005005, 0.04635819420218468, -0.06953714042901993, -0.035818539559841156, -0.032823819667100906, -0.004446552600711584, 0.04260929673910141, -0.037716496735811234, -0.0027802411932498217, 0.03862069174647331, -0.024399351328611374, 0.03209864720702171, -0.04691758379340172, -0.027211392298340797, -0.02026611752808094, 0.10207591205835342, 0.06295707076787949, 0.11641958355903625, 0.026011871173977852, 0.05958492308855057, -0.0038972124457359314, 0.0027494479436427355, -0.0015470086364075541, -0.02904326468706131, -0.013965660706162453, -0.028276419267058372, -0.00818317849189043, 0.0597384050488472, 0.04684434086084366, 0.015484695322811604, -0.13501979410648346, -0.04500076547265053, -0.040061917155981064, -0.03013778291642666, 0.04937504231929779, -0.034980013966560364, 0.0503971092402935, -0.0009008068591356277, 0.04713137447834015, 0.040201760828495026, 0.09437800198793411, 0.012743495404720306, 0.015099228359758854, 0.01258093025535345, -0.0835045650601387, -0.04743248596787453, -0.011914188973605633, -0.023197393864393234, -0.05548403039574623, -0.0006604971713386476, -8.089963898783026e-08, -0.06327848136425018, -0.06030730530619621, 0.05413390323519707, 0.021015498787164688, 0.005464267451316118, -0.017999161034822464, -0.04461626708507538, 0.009912420995533466, -0.0023582165595144033, 0.005446211900562048, 0.0014154283562675118, -0.020061401650309563, -0.04359211400151253, -0.0028467050287872553, 0.10414505749940872, 0.015564718283712864, -0.004226152319461107, 0.10905145853757858, -0.07413884252309799, -0.0844915509223938, -0.0003014962130691856, 0.021723385900259018, -0.020764265209436417, 0.06383053213357925, 0.034637391567230225, -0.023981377482414246, -0.03394920751452446, 0.03711765259504318, -0.02987704984843731, 0.020051134750247, -0.04068209230899811, -0.050808995962142944, 0.02378254011273384, -0.05159223452210426, 0.06299077719449997, 0.04405699297785759, -0.007852626033127308, -0.07081249356269836, -0.01567433401942253, -0.004892678000032902, -0.07481849938631058, 0.059905581176280975, 0.021775228902697563, 0.061774369329214096, 0.10671091824769974, -0.00848024245351553, -0.024561874568462372, 0.024607235565781593, -0.009879741817712784, -0.028946036472916603, -0.02794232778251171, -0.06826506555080414, -0.015545899979770184, 0.03054412081837654, -0.006781352683901787, 0.041886184364557266, -0.037548746913671494, -0.006978435907512903, 0.048321954905986786, 0.04175582155585289, 0.036482010036706924, 0.0211022961884737, 0.030899852514266968, 0.009110551327466965]]\n",
            "[[-0.001656138338148594, -0.02832886576652527, 0.0537043996155262, -0.02880224585533142, -0.1383935660123825, -0.03649416193366051, -0.008672112599015236, 0.040145836770534515, -0.030748113989830017, 0.024107778444886208, -0.06435789167881012, -0.04916064068675041, 0.028876090422272682, -0.018327949568629265, -0.0017496366053819656, 0.052977554500103, 0.06142864748835564, -0.031591761857271194, -0.03332649543881416, -0.07852032035589218, 0.06351225823163986, -0.029447752982378006, -0.03744252398610115, -0.0673409253358841, -0.06183086708188057, -0.013423727825284004, -0.02229270711541176, -0.028489157557487488, -0.04861527681350708, -0.08603226393461227, 0.04609327018260956, -0.026268370449543, 0.069526806473732, 0.060297414660453796, 0.0681874006986618, 0.08001325279474258, 0.034163568168878555, -0.005900532938539982, 0.06606510281562805, -0.027009431272745132, 0.017564689740538597, -0.0657438263297081, -0.11008404940366745, -0.04743479564785957, 0.011010929010808468, -0.0913434699177742, -0.03735160082578659, -0.031898029148578644, 0.00783647783100605, 0.040833938866853714, -0.05574427917599678, -0.06455783545970917, 0.010430414229631424, 0.03925922140479088, -0.0678623840212822, 0.0852624699473381, 0.023301338776946068, 0.06580398976802826, -0.0012142156483605504, -0.04801666736602783, -0.01625571958720684, -0.012268203310668468, -0.0152943916618824, 0.01572883129119873, -0.004465857520699501, 0.015289274975657463, -0.015777941793203354, 0.01416774746030569, -0.04252514988183975, -0.04242563992738724, 0.011493700556457043, -0.06015511229634285, -0.11473044008016586, 0.020835740491747856, 0.06926599144935608, 0.058025989681482315, 0.08995965123176575, 0.008427290245890617, 0.04046070948243141, 0.028340594843029976, 0.06745801120996475, 0.08645288646221161, -0.12080837786197662, 0.0782647505402565, -0.11864566802978516, -0.043139249086380005, -0.04732646048069, -0.010878990404307842, 0.034828562289476395, 0.005245402920991182, -0.03324304521083832, -0.05466629937291145, -0.021832996979355812, -0.014026730321347713, 0.049672264605760574, -0.04094001650810242, -0.01179593987762928, -0.018947817385196686, 0.012596123851835728, 0.011818413622677326, -0.024115383625030518, -0.006513210013508797, 0.03462749719619751, -0.04124971479177475, -0.13575710356235504, 0.03073856607079506, -0.023039555177092552, 0.07222197949886322, 0.011698630638420582, -0.02182858996093273, -0.03785620629787445, -0.04103918746113777, -0.09282238036394119, -0.06125466153025627, 0.09475670009851456, 0.04133858531713486, -0.11235153675079346, 0.0514167919754982, 0.05863869935274124, 0.0010666657472029328, -0.023242082446813583, 0.04045991972088814, 0.01132226176559925, -0.04365674778819084, -0.013021640479564667, -0.015065926127135754, -0.026697376742959023, 1.1379744078539633e-32, 0.01973823830485344, 0.03027082420885563, 0.0003062209871131927, 0.014256969094276428, 0.05508636310696602, 0.02202436327934265, 0.04455173760652542, 0.028606386855244637, -0.09284442663192749, 0.001765093533322215, -0.0042134677059948444, 0.09173212200403214, -0.058093100786209106, -0.027231281623244286, 0.019133102148771286, -0.03018857166171074, -0.014211462810635567, 0.05945778638124466, 0.0024104418698698282, 0.016322387382388115, -0.04352276772260666, -0.029420919716358185, -0.03873935341835022, -0.032443609088659286, 0.040286459028720856, -0.006120475009083748, 0.04978261515498161, 0.02605988271534443, 0.048412177711725235, 0.00790558010339737, -0.013410527259111404, -0.012168866582214832, -0.035771772265434265, -0.04061073437333107, 0.007979142479598522, -0.03181707486510277, -0.021458014845848083, -0.07879956066608429, 0.07195072621107101, -0.00508894631639123, -0.09559764713048935, 0.07282263785600662, 0.049341704696416855, -0.012112908065319061, 0.0042891413904726505, 0.00021402891434263438, 0.08238975703716278, -0.007861391641199589, 0.08464178442955017, 0.10613461583852768, -0.03716032952070236, -0.049852821975946426, 0.09882190078496933, 0.02151268906891346, -0.007684476673603058, 0.006856740918010473, 0.04398658499121666, -0.025100328028202057, 0.06362763047218323, 0.04756530374288559, -0.013726425357162952, 0.0743107944726944, -0.03922148421406746, -0.031087582930922508, -0.04509972035884857, -0.06498595327138901, 0.06045454740524292, -0.008694079704582691, 0.10624466091394424, 0.0124147804453969, -0.059917956590652466, -0.04126550257205963, 0.07803281396627426, 0.04144541546702385, 0.006674136035144329, -0.027619618922472, -0.02252279967069626, 0.04179307818412781, 0.016048071905970573, 0.037907056510448456, -0.08510801941156387, 0.055205706506967545, -0.0030165573116391897, 0.03362256661057472, 0.04588029906153679, 0.06309349089860916, 0.03391246870160103, -0.03737226501107216, -0.03379851579666138, 0.09446931630373001, -0.04224696382880211, 0.037393033504486084, -0.029677357524633408, 0.14681412279605865, 0.006896341685205698, -1.0609793809383096e-32, 0.031311873346567154, -0.050304993987083435, -0.04011392220854759, 0.0657036155462265, 0.0813383236527443, 0.03442355617880821, 0.051923323422670364, -0.04523782804608345, -0.005873814225196838, -0.059274617582559586, -0.03487471491098404, 0.053632862865924835, 0.008021574467420578, 0.005144187714904547, -0.02154659479856491, -0.00971386581659317, 0.0176981333643198, -0.023447316139936447, 0.004436592571437359, -0.009073884226381779, 0.039654284715652466, 0.12168018519878387, -0.09948815405368805, 0.06967635452747345, -0.0039843665435910225, -0.0058662728406488895, -0.065257728099823, 0.033209722489118576, 0.01758197881281376, -0.04813859611749649, 0.0029615904204547405, 0.0018554910784587264, -0.08051659166812897, 0.012891585007309914, -0.07684553414583206, -0.05340787023305893, 0.03556192293763161, -0.019215194508433342, 0.04223402217030525, 0.032136812806129456, 0.06663297116756439, -0.04425063356757164, 0.00932113453745842, -0.06580560654401779, -0.010551085695624352, -0.0064682867377996445, 0.1091470867395401, -0.0184033140540123, -0.01649864763021469, -0.03448356315493584, -0.028400130569934845, 0.044928569346666336, -0.04368741810321808, 0.03781368210911751, 0.004073623567819595, 0.02161533571779728, 0.05217108502984047, -0.036333464086055756, -0.03618649020791054, -0.05410100892186165, 0.06063910573720932, 0.04736323282122612, 0.10814284533262253, 0.027896933257579803, 0.05955270677804947, 0.019835595041513443, 0.0746278241276741, -0.0389958955347538, -0.11157933622598648, -0.033627673983573914, -0.044778939336538315, -0.08160627633333206, -0.020981546491384506, -0.06141091510653496, -0.031741704791784286, -0.034538306295871735, -0.09056887775659561, -0.09314357489347458, 0.0006251975428313017, -0.0201956108212471, -0.09145563095808029, 0.05809760093688965, -0.0606563538312912, 0.02066914737224579, 0.04659787192940712, 0.07921585440635681, -0.011479584500193596, -0.11644061654806137, 0.023936154320836067, -0.03310418128967285, -0.12277797609567642, -0.022229323163628578, -0.08658213913440704, -0.017084376886487007, -0.038476910442113876, -6.91727848334267e-08, -0.01449030451476574, 0.0535011924803257, -0.026157071813941002, 0.03165828064084053, 0.024289242923259735, -0.014454896561801434, -0.022859981283545494, 0.06895382702350616, 0.053321994841098785, -0.009239005856215954, 0.04021668806672096, -0.06912815570831299, -0.03687797859311104, 0.06176244840025902, 0.09627740830183029, 0.007536725606769323, 0.06079728901386261, 0.13519221544265747, -0.04587039351463318, -0.043009888380765915, 0.02293654903769493, 0.02858603745698929, -0.02631605975329876, 0.023891454562544823, -0.011362417601048946, -0.04902166128158569, 0.019262513145804405, 0.017227375879883766, -0.025686146691441536, 0.06385499238967896, -0.023999957367777824, -0.02242087386548519, -0.03027936816215515, -0.08874335885047913, 0.07692909240722656, -0.01293314341455698, 0.02050071395933628, 0.015543386340141296, -0.027841996401548386, 0.03387641906738281, -0.042963042855262756, 0.04649858921766281, 0.0772368535399437, 0.016375700011849403, -0.016408493742346764, 0.005585175938904285, -0.04375668615102768, 0.04783051460981369, 0.018054943531751633, 0.0646284893155098, 0.03241662308573723, -0.044202495366334915, -0.045421671122312546, 0.0243374090641737, 0.02272222936153412, -0.031843770295381546, 0.07055006176233292, -0.09613798558712006, -0.022616062313318253, 0.09308933466672897, 0.10448386520147324, -0.01381572987884283, -0.014405968599021435, 0.0022319655399769545], [-0.08607036620378494, -0.03907071799039841, 0.04348045960068703, 0.00708729075267911, -0.0463724285364151, -0.015837082639336586, 0.01782260835170746, 0.00648018391802907, -0.07384941726922989, -0.03165380284190178, -0.011978961527347565, -0.0037263105623424053, -0.07769107073545456, 0.10987785458564758, 0.014971726574003696, -0.010576964356005192, 0.031939879059791565, 0.016029147431254387, -0.01174703799188137, -0.046197954565286636, -0.04668533056974411, -0.0810757428407669, -0.06767366081476212, -0.03742717206478119, -0.09224747866392136, 0.022576427087187767, 0.014974395744502544, 0.030200114473700523, -0.04145626351237297, -0.051849473267793655, 0.045047737658023834, 0.05381540209054947, 0.09480325877666473, -0.031990863382816315, 0.04963712394237518, 0.14853128790855408, 0.043282411992549896, 0.028916556388139725, 0.030539987608790398, 0.023731790482997894, -0.082331083714962, -0.05498209595680237, 0.009824249893426895, -0.06217740848660469, -0.030560800805687904, -0.0755772739648819, -0.001389039563946426, -0.02968607470393181, 0.0007680489215999842, 0.007815206423401833, -0.06525162607431412, -0.023701267316937447, 0.03737124055624008, 0.03954310715198517, 0.00504794716835022, 0.0505187064409256, -0.007814469747245312, -0.01039797905832529, -0.06130390986800194, -0.013689170591533184, -0.02437013015151024, 0.005058382172137499, -0.008543658070266247, -0.010829123668372631, 0.010135664604604244, -0.06414826214313507, -0.07524140924215317, 0.04496830701828003, -0.03583903610706329, -0.06635952740907669, -0.00024252323783002794, -0.060318976640701294, -0.13370683789253235, 0.01144526805728674, 0.008982367813587189, 0.07150644809007645, 0.02214794233441353, 0.029717588797211647, 0.1236056312918663, -0.05028442293405533, -0.01993848755955696, 0.04687049239873886, -0.01810748316347599, -0.0015078599099069834, -0.10129320621490479, -0.07211921364068985, -0.012721006758511066, 0.028140461072325706, 0.06607387214899063, 0.024200333282351494, 0.035065144300460815, 0.01941651664674282, -0.08915939927101135, -0.07850392907857895, -0.005475740414112806, -0.005784942302852869, -0.032438986003398895, -0.018849629908800125, -0.03053777664899826, 0.023001132532954216, -0.012475520372390747, -0.028501329943537712, 0.052456095814704895, 0.03878890350461006, -0.05785438045859337, 0.01852678880095482, -0.03507385402917862, 0.045975860208272934, 0.0031219872180372477, 0.031107043847441673, -0.03636971116065979, 0.013860352337360382, -0.14496274292469025, -0.035384517163038254, 0.07029084861278534, 0.03479090332984924, -0.07514026015996933, 0.021559186279773712, 0.052106987684965134, -0.008832924999296665, 0.056558605283498764, 0.06653706729412079, -0.0746157094836235, -0.03666667640209198, -0.0029156578239053488, -0.014764201827347279, 0.07849881052970886, 7.951092278103924e-33, 0.017184579744935036, 0.06435219198465347, -0.009549987502396107, 0.06340612471103668, 0.018179913982748985, 0.00591500336304307, 0.02194279059767723, 0.08599957823753357, 0.009703255258500576, -0.006191801279783249, -0.020163146778941154, 0.10372413694858551, 0.0010682729771360755, -0.08024641126394272, 0.00828661397099495, -0.06302142143249512, -0.01892385259270668, 0.05356597155332565, -0.009608772583305836, 0.004172664601355791, 0.02959596924483776, 0.0008226963691413403, -0.06998984515666962, 0.051488056778907776, 0.06778060644865036, -0.021438859403133392, 0.05558321252465248, -0.002423066645860672, 0.02087688446044922, 0.019442224875092506, 0.08522230386734009, 0.014990348368883133, -0.05332142859697342, -0.013881518505513668, -0.01480415090918541, 0.032414183020591736, -0.05359477177262306, -0.1127585843205452, 0.022338934242725372, -0.045965537428855896, -0.07020910829305649, -0.006308817770332098, 0.04667963087558746, 0.0013512044679373503, 0.043993644416332245, -0.0006887278286740184, 0.09639108180999756, 0.01636645942926407, 0.031422823667526245, 0.08825025707483292, -0.0027146274223923683, -0.040997397154569626, 0.012273441068828106, 0.0029966391157358885, 0.02261711284518242, 0.07392438501119614, 0.02923831157386303, 0.00608429592102766, 0.01740158721804619, -0.02745678648352623, 0.03092047944664955, 0.012625586241483688, -0.09873019903898239, -0.008119771257042885, 0.06146896257996559, -0.03803744167089462, 0.03321712836623192, -0.005501843523234129, 0.1440057009458542, 0.0010177389485761523, -0.03620144724845886, 0.03192591294646263, 0.03596147894859314, 0.040762584656476974, -0.10327395796775818, -0.0326070599257946, -0.025007329881191254, -0.013342523016035557, -0.00010383903281763196, 0.07271553575992584, -0.06790437549352646, 0.056919656693935394, 1.19969408842735e-05, -0.04423190653324127, 0.08613376319408417, -0.015231765806674957, 0.0688844546675682, 0.018539147451519966, -0.020696768537163734, 0.07354208827018738, 0.0737326517701149, 0.03543371707201004, -0.0006150242988951504, 0.1382729858160019, -0.03142756596207619, -7.356315646474863e-33, 0.045609794557094574, -0.08376847207546234, -0.02293255552649498, 0.049697767943143845, 0.08531066030263901, 0.083359494805336, -0.01871846430003643, -0.04226073995232582, -0.017415368929505348, 0.04048442095518112, -0.14326906204223633, -0.02065809816122055, 0.018416326493024826, -0.0401313379406929, -0.12388620525598526, 0.023453177884221077, -0.0562361441552639, -0.008959194645285606, -0.025018546730279922, 0.07984184473752975, 0.036890678107738495, 0.12083461135625839, -0.034002117812633514, 0.0575251467525959, -0.04039674252271652, 0.024315938353538513, -0.0637599378824234, -0.07338865846395493, -0.06938152015209198, 0.029306994751095772, -0.037407007068395615, -0.052959147840738297, -0.04834488406777382, -0.03512171283364296, 0.005893240217119455, -0.049067553132772446, -0.019020644947886467, 0.011827259324491024, -0.01385315228253603, 0.09951884299516678, 0.07374408096075058, -0.02053731121122837, 0.0019253387581557035, -0.0008328942931257188, -0.028929580003023148, -0.08043515682220459, 0.00284708384424448, -0.06013313680887222, -0.06810127943754196, -0.019427264109253883, -0.040094126015901566, -0.002749616513028741, -0.1005386933684349, 0.0007916638278402388, -0.029331739991903305, -0.02914554998278618, 0.0692821741104126, -0.054689280688762665, -0.07054230570793152, 0.03886668384075165, 0.1131359189748764, 0.010070842690765858, 0.05860938876867294, 0.09419649094343185, 0.12581971287727356, -0.032101210206747055, 0.011891091242432594, 0.01863989233970642, -0.06863414496183395, -0.030259782448410988, -0.04081767052412033, -0.03432145714759827, 0.08175135403871536, -0.038697488605976105, -0.00835421122610569, -0.06627628952264786, -0.019916554912924767, -0.11090242862701416, -0.007604784332215786, 0.010001818649470806, -0.03807618096470833, -0.008756781928241253, -0.003926113713532686, 0.046425919979810715, -0.015046674758195877, 0.06111394241452217, 0.01470344327390194, 0.03400518000125885, 0.044649384915828705, -0.026378372684121132, -0.03800816833972931, -0.018399575725197792, -0.04241439327597618, 0.04307078197598457, 0.011702656745910645, -6.248145467679933e-08, -0.005173688288778067, -0.002756069879978895, -0.03645743802189827, -0.012155226431787014, -0.011953970417380333, -0.12877173721790314, 0.0004539308720268309, -0.011671489104628563, 0.06962202489376068, 0.07710385322570801, 0.003557192161679268, -0.039142291992902756, -0.04491572082042694, -0.003261092584580183, 0.08818457275629044, 0.032645802944898605, 0.014518266543745995, 0.08266185224056244, -0.08717388659715652, 0.04334796220064163, 0.071067214012146, -0.007395547814667225, -0.11051755398511887, 0.03290000557899475, -0.01568056456744671, -0.01879023388028145, -0.10056386888027191, 0.02599240094423294, 0.015208309516310692, 0.06915134191513062, 0.0068533471785485744, 0.003437909297645092, 0.02518889307975769, -0.04383699595928192, -0.01759546622633934, 0.01592816412448883, 0.014215957373380661, -0.05885995179414749, -0.030649464577436447, 0.003203037893399596, -0.03995250165462494, 0.10212080925703049, -0.03073563612997532, -0.00042653040145523846, 0.04500737413764, 0.02756723389029503, -0.05043588951230049, 0.03023047372698784, -0.03966287523508072, -0.00871798675507307, -0.03143750876188278, -0.03902225196361542, 0.02114775776863098, -0.031321510672569275, 0.007403633091598749, 0.047530658543109894, 0.07384403049945831, -0.0029363648500293493, 0.019076526165008545, 0.04159509390592575, 0.019881445914506912, 0.047109272330999374, 0.045899149030447006, 0.06590129435062408], [-0.0030151004903018475, -0.024046532809734344, -0.0900786742568016, 0.02459411695599556, -0.07000838220119476, 0.025819143280386925, 0.017428303137421608, 0.010963669046759605, 0.03532630577683449, -0.05518156662583351, -0.06760099530220032, -0.041247688233852386, -0.04826730489730835, 0.03091706894338131, -0.029535725712776184, -0.07524795830249786, 0.006900376174598932, -0.07328222692012787, -0.007477350067347288, 0.02415052428841591, -0.012692303396761417, -0.06105521693825722, 0.047999829053878784, -0.07893312722444534, -0.06351400166749954, -0.04903892055153847, 0.0135424779728055, 0.0013378894655033946, -0.06624014675617218, -0.021279189735651016, 0.02828640677034855, 0.11190308630466461, 0.03935360535979271, 0.01907472498714924, 0.05494949221611023, 0.05881837010383606, 0.019988147541880608, 0.07213138788938522, 0.026751883327960968, -0.0034267280716449022, -0.050492990761995316, -0.04780185967683792, 0.016167696565389633, -0.0027368003502488136, 0.009884114377200603, -0.12192807346582413, 0.017301613464951515, 0.04340742155909538, 0.03717022016644478, 0.019656376913189888, -0.14047865569591522, -0.01623643934726715, 0.011895445175468922, 0.01049660611897707, 0.0030795957427471876, 0.05982057750225067, -0.011050056666135788, -0.023069394752383232, -0.05235239863395691, -0.064921073615551, 0.03471657261252403, 0.029368583112955093, 0.02818848192691803, -0.0009096538997255266, 0.06490425765514374, 0.0318172462284565, -0.015263724140822887, 0.06382891535758972, 0.006018267013132572, -0.05230225622653961, -0.042733654379844666, -0.12845119833946228, -0.10999058187007904, 0.06930796056985855, 0.035960812121629715, 0.02072177454829216, 0.05849950388073921, 0.04623664543032646, 0.043222710490226746, -0.053288884460926056, 0.03374335914850235, 0.023319268599152565, -0.052447423338890076, 0.04697887599468231, -0.075294628739357, -0.04807456210255623, -0.029267605394124985, -0.03662258759140968, 0.0436953529715538, 0.05530382692813873, 0.04514419287443161, 0.006687216926366091, -0.03561197221279144, -0.06837944686412811, 0.01171026099473238, -0.013993230648338795, -0.031685758382081985, -0.022658640518784523, 0.021415233612060547, 0.027463490143418312, 0.0257037952542305, -0.061854176223278046, -0.0015811289194971323, 0.07178249955177307, -0.09558004885911942, 0.08200659602880478, 0.04411931335926056, 0.07811364531517029, 0.02708759531378746, 0.03654765337705612, -0.014041099697351456, 0.10033763200044632, -0.11665899306535721, -0.04312495142221451, 0.025644760578870773, 0.05121995508670807, -0.10990452766418457, 0.024408008903265, 0.09678313881158829, 0.07320922613143921, 0.014995614066720009, 0.16207478940486908, -0.034465860575437546, -0.0820380449295044, -0.012748215347528458, -0.0453595407307148, -0.07568060606718063, 4.424566613966844e-33, 0.0010352798271924257, 0.024630725383758545, 0.037210263311862946, 0.03503173962235451, -0.0038517469074577093, 0.04986823722720146, 0.03823770210146904, 0.011959979310631752, -0.084879569709301, 0.06809523701667786, -0.006291250232607126, 0.11084120720624924, -0.0058839041739702225, -0.006178053095936775, 0.0046739839017391205, -0.021709557622671127, -0.038803718984127045, 0.03285319730639458, 0.011938376352190971, -0.006045789457857609, 0.009878093376755714, 0.032051775604486465, 0.04014672711491585, -0.05194082483649254, 0.09278225898742676, -0.023940620943903923, -0.023533036932349205, 0.02418484352529049, 0.07550718635320663, 0.02609105408191681, 0.012116366066038609, -0.03180665895342827, -0.03671257197856903, -0.08440215140581131, 0.0541970357298851, 0.015931759029626846, -0.07756681740283966, -0.0794273167848587, -0.021440813317894936, -0.018067890778183937, -0.0757669061422348, 0.009977070614695549, 0.02433336153626442, 0.016010669991374016, -0.030666470527648926, 0.0625157356262207, 0.0201222263276577, 0.05206609144806862, -0.003289703046903014, 0.004920279607176781, -0.050271470099687576, -0.08100932836532593, 0.0014582262374460697, -0.03711762651801109, -0.030668925493955612, 0.046873997896909714, 0.04416502267122269, -0.029882065951824188, -0.0886407196521759, -0.06819751858711243, -0.04510790854692459, -0.00030369573505595326, -0.10598838329315186, -0.008135360665619373, -0.05605587363243103, -0.007141780573874712, -0.003929316531866789, 0.07495090365409851, 0.08899405598640442, -0.01440010592341423, -0.04377283900976181, 0.017852555960416794, 0.10238509625196457, 0.060457758605480194, 0.030745919793844223, -0.015090868808329105, 0.014791206456720829, -0.0136638218536973, 0.03599494323134422, 0.07290679216384888, 0.019404856488108635, 0.04213714599609375, 0.0065093315206468105, 0.027465755119919777, 0.08334649354219437, 0.10997258871793747, 0.060525257140398026, -0.06747213751077652, 0.034759387373924255, 0.0025977801997214556, -0.007990666665136814, 0.002494225511327386, 0.020046601071953773, 0.0847303718328476, -0.017455173656344414, -7.281971506257108e-33, -0.039320845156908035, -0.09514879435300827, 0.02614622749388218, 0.00038444853271357715, 0.04055748134851456, -0.006528077181428671, 0.0014681399334222078, -0.045775655657052994, -0.017292380332946777, -0.057325080037117004, -0.019080275669693947, -0.020058544352650642, 0.012338921427726746, -0.04539734870195389, -0.10271082073450089, -0.03365717828273773, -0.057223979383707047, -0.025014379993081093, -0.009644950740039349, -0.029244447126984596, 0.045158255845308304, 0.09507238864898682, 0.02746717445552349, 0.030030829831957817, 0.050699662417173386, -0.03527650237083435, -0.017900386825203896, 0.08218176662921906, -0.00699881324544549, 0.013631771318614483, 0.02983909472823143, 0.0493781752884388, -0.08263739198446274, -0.027332426980137825, -0.10705304145812988, -0.05821958929300308, -0.00743017578497529, -0.039035458117723465, 0.019695401191711426, 0.09359164535999298, 0.0491078682243824, -0.04708632081747055, -0.022943023592233658, -0.06293665617704391, -0.00264504156075418, -0.05344054475426674, 0.1049911230802536, -0.03728241100907326, 0.04637125879526138, -0.02566881664097309, -0.018839510157704353, -0.02697276882827282, -0.011488571763038635, 0.03648567199707031, -0.00016538603813387454, 0.028730064630508423, 0.09195126593112946, -0.05723089724779129, -3.491064126137644e-05, 0.02426975406706333, 0.062020570039749146, 0.08378057926893234, 0.11044115573167801, 0.11659462004899979, 0.09670060127973557, -0.08096753805875778, -0.027406126260757446, 0.036460597068071365, -0.09974511712789536, -0.05667011812329292, -0.002778165740892291, -0.0824679359793663, 0.021930601447820663, -0.016662610694766045, -0.023557467386126518, -0.002652957569807768, -0.05084051191806793, -0.09949634969234467, -0.042022548615932465, 0.03333825245499611, -0.07162939012050629, -0.016124021261930466, -0.04969951510429382, 0.09551388025283813, -0.005908631719648838, -0.02183285541832447, 0.043251749128103256, -0.0550985112786293, 0.06278552114963531, -0.010312426835298538, -0.026063403114676476, -0.03435862064361572, -0.020885063335299492, -0.03313194587826729, -0.09142080694437027, -6.547107034293731e-08, -0.058029722422361374, 0.023603735491633415, -0.05685187876224518, -0.024034304544329643, -0.01312180608510971, -0.050400689244270325, -0.10938272625207901, -0.05188871547579765, 0.04813094064593315, -0.0500604473054409, 0.05711565166711807, -0.02105669118463993, -0.06881722062826157, -0.012351463548839092, 0.03239448368549347, -0.02346084453165531, 0.016704322770237923, 0.06557565927505493, -0.023435775190591812, -0.00973949208855629, 0.04342672973871231, -0.018228748813271523, -0.054402850568294525, 0.027855029329657555, -0.03952856361865997, -0.02393423765897751, -0.08066941797733307, 0.05767584219574928, 0.023015687242150307, -0.02171836979687214, -0.04673052951693535, 0.001141879241913557, 0.08763406425714493, -0.06897706538438797, -0.038679156452417374, 0.018902143463492393, 0.03449259698390961, -0.06389928609132767, -0.0624227412045002, 0.062152326107025146, -0.028390325605869293, 0.015084353275597095, 0.055571720004081726, 0.004942901898175478, 0.009614333510398865, -0.008508359082043171, -0.06650591641664505, 0.08761100471019745, 0.03276311978697777, -0.009441431611776352, 0.01702296733856201, -0.04245777055621147, 0.02966292016208172, 0.004876614082604647, 0.052958641201257706, 0.07216265797615051, 0.01749337837100029, 0.020421454682946205, -0.026901034638285637, 0.012856030836701393, 0.03451339900493622, -0.05927436798810959, 0.00669833505526185, 0.02878754958510399], [-0.055113423615694046, 0.013668191619217396, -0.010421277023851871, 0.030001388862729073, 0.0517088808119297, -0.01888759806752205, 0.009295075200498104, 0.07459268718957901, -0.10059794783592224, -0.00910248514264822, -0.12521497905254364, -0.01741115190088749, 0.023895585909485817, 0.004374590702354908, 0.05217456445097923, 0.026114651933312416, 0.0034722473938018084, -0.06974810361862183, 0.034224387258291245, -0.04706903547048569, -0.017768552526831627, -0.011374755762517452, -0.007803690154105425, -0.06980368494987488, -0.014895112253725529, -0.020736586302518845, 0.0703284740447998, -0.023789003491401672, -0.00481801014393568, -0.05794987827539444, 0.034218549728393555, 0.03631060570478439, 0.008764514699578285, -0.0009249452850781381, -0.08819283545017242, 0.08152120560407639, 0.03832198306918144, -0.05965043231844902, 0.03741743788123131, -0.014081625267863274, -0.040307048708200455, -0.024925414472818375, -0.03207799792289734, -0.009711403399705887, 0.07814085483551025, -0.09424063563346863, -0.01121277455240488, -0.012642376124858856, -0.05265095829963684, 0.07494841516017914, -0.018866142258048058, -0.14764922857284546, -0.014969833195209503, 0.009065602906048298, -0.13250844180583954, -0.03626132011413574, -0.025396235287189484, 0.00573560269549489, 0.011861611157655716, -0.023479994386434555, 0.03755304217338562, 0.026644987985491753, -0.0009465008042752743, -0.025163084268569946, 0.08482073992490768, -0.06605541706085205, -0.05884186178445816, -0.007116496097296476, 0.025715181604027748, -0.047105416655540466, -0.03279070928692818, -0.04232916608452797, -0.05157206207513809, -0.003026316873729229, 0.013192400336265564, -0.0586731918156147, 0.024397101253271103, 0.04270792379975319, 0.07651197910308838, -0.013037357479333878, 0.08405239880084991, 0.09938714653253555, -0.0550769679248333, 0.08942745625972748, -0.07995260506868362, -0.03534749150276184, -0.0068156118504703045, 0.07449831813573837, -0.03809994086623192, -0.08856069296598434, 0.06294792145490646, -0.018822187557816505, -0.04949832335114479, 0.053192105144262314, -0.0007009829278104007, 0.023957688361406326, 0.044043175876140594, -0.036891527473926544, 0.00123176712077111, 0.051260530948638916, -0.06234131008386612, -0.07219251245260239, 0.08352513611316681, 0.03509628772735596, -0.07913339883089066, 0.08309025317430496, 0.014816652983427048, 0.04759097099304199, 0.005829140543937683, 0.03125215321779251, -0.009263496845960617, 0.01997292973101139, -0.09621348232030869, -0.06277962028980255, 0.0978546291589737, -0.0062447115778923035, -0.05394366383552551, 0.011191205121576786, 0.06542001664638519, 0.0548732727766037, -0.022274410352110863, 0.10130313783884048, 0.032066285610198975, -0.023371897637844086, 0.09634831547737122, -0.08628568798303604, 0.007851398549973965, 1.7015959576140212e-32, 0.03086651675403118, 0.0735616683959961, 0.00838516280055046, 0.03781093657016754, 0.06025153025984764, -0.009181573987007141, 0.1037936583161354, 0.0441998727619648, -0.06899368762969971, 0.038035131990909576, 0.04583520069718361, 0.052917759865522385, -0.01229026447981596, -0.004866913892328739, 0.025363923981785774, -0.08983544260263443, 0.04252348840236664, -0.004576412029564381, 0.010273071937263012, -0.09346555173397064, -0.009221677668392658, -0.01558983325958252, -0.05520489811897278, 0.09131985157728195, 0.08194571733474731, -0.01436581090092659, 0.020495349541306496, 0.05107551068067551, -0.028629960492253304, 0.00798078440129757, 0.06944379210472107, 0.021690335124731064, -0.09834010154008865, -0.03076285310089588, -0.046339236199855804, -0.02368726022541523, -0.03487075865268707, -0.1344967931509018, 0.057543665170669556, 0.005042297299951315, -0.039387285709381104, 0.04205622151494026, 0.008919677697122097, -0.004812863189727068, -0.05620548874139786, -0.03333762288093567, 0.05275202542543411, -0.0071015190333127975, 0.04645141214132309, 0.049910470843315125, -0.11507126688957214, -0.06008753925561905, 0.05262920632958412, 0.07400546967983246, -0.02464461140334606, 0.020390208810567856, 0.07407638430595398, -0.057769812643527985, 0.004228601232171059, 0.048728831112384796, -0.037206731736660004, -0.032360658049583435, -0.0392613410949707, -0.040180835872888565, -0.04065771400928497, -0.12743371725082397, 0.019911935552954674, -0.016785601153969765, 0.11839792132377625, -0.034459736198186874, -0.05453645437955856, -0.017974011600017548, 0.15957984328269958, 0.03965035453438759, -0.02790854312479496, -0.003235349664464593, -0.03914731368422508, 0.03728527948260307, 0.029564136639237404, 0.010633443482220173, -0.0012540614698082209, 0.07802456617355347, 0.007183820009231567, 0.002207817044109106, 0.09251357614994049, 0.02626601606607437, 0.0025253649801015854, -0.061083223670721054, -0.060859378427267075, 0.09407057613134384, 0.043109096586704254, 0.03116108849644661, 0.07338829338550568, 0.028179887682199478, 0.0007964707911014557, -1.4356324261536106e-32, -0.0363118015229702, -0.015363577753305435, -0.07936552166938782, 0.03004034422338009, 0.08345639705657959, -0.05042204633355141, 0.034905046224594116, 0.0038904815446585417, -0.0028317978139966726, -0.03262081742286682, 0.06197202578186989, 0.010328666307032108, -0.021523388102650642, 0.060999397188425064, -0.10369069129228592, 0.04658131301403046, -0.03718281909823418, -0.05502337962388992, 0.034484077244997025, 0.00912442896515131, 0.02100505493581295, 0.040098514407873154, -0.07534310221672058, -0.019604109227657318, 0.0002510099729988724, -0.013104001991450787, -0.008246798068284988, 0.028160687536001205, -0.010190531611442566, 0.0678563043475151, -0.03567010164260864, -0.02289685793220997, 0.00909948069602251, -0.019946342334151268, -0.005405713338404894, -0.11927066743373871, -0.03679628670215607, 0.018667440861463547, -0.005387400276958942, -0.009242591448128223, 0.05837942659854889, -0.012888756580650806, -0.01302194595336914, -0.08350110799074173, -0.012562603689730167, -0.029361385852098465, -0.00681648263707757, 0.018164137378335, 0.024787530303001404, -0.04286166653037071, 0.0427062064409256, 0.03918512910604477, -8.668930968269706e-05, -0.030815908685326576, 0.01983981765806675, -0.0638316199183464, 0.02830374799668789, -0.057186491787433624, -0.008615314029157162, -0.0021931733936071396, 0.024839084595441818, 0.07472310215234756, 0.13541388511657715, 0.045279283076524734, 0.10900631546974182, -0.02200242131948471, -0.0559738427400589, 0.0736565962433815, -0.024709787219762802, -0.055905792862176895, -0.11851944029331207, -0.011208618991076946, 0.05713462829589844, -0.019299590960144997, -0.030362064018845558, 3.741122782230377e-05, 0.04073981195688248, -0.058269139379262924, 0.022789860144257545, 0.026250084862113, -0.015042861923575401, 0.0270442683249712, -0.033672917634248734, 0.021987514570355415, -0.06637705862522125, 0.06858988106250763, -0.015854766592383385, -0.04268196225166321, 0.008924522437155247, -0.029944125562906265, -0.08578642457723618, 0.042719218879938126, 0.012014389038085938, -0.03839842602610588, 0.0991571769118309, -6.862384793748788e-08, -0.0781949907541275, 0.004127158783376217, -0.09964785724878311, -0.025557158514857292, -0.05889353156089783, 0.007289436180144548, -0.04069248214364052, -0.03205959498882294, 0.08568233251571655, -0.006048394832760096, 0.009633898735046387, -0.002989106811583042, 0.02719518542289734, 0.02750287763774395, 0.061427198350429535, 0.0723957046866417, 0.022037547081708908, 0.08740527927875519, -0.03863079845905304, -0.07421331107616425, 0.037507064640522, 0.0135614313185215, -0.0055341520346701145, -0.02026566118001938, 0.0045608640648424625, 0.0020688173826783895, -0.04446757584810257, 0.00021907950576860458, -0.03990840166807175, 0.033072661608457565, -0.043513014912605286, -0.053602203726768494, 0.018609778955578804, 8.125291060423478e-05, 0.08761978894472122, -0.06324397772550583, 0.006462047807872295, -0.04654152691364288, 0.014143593609333038, 0.0357702411711216, 0.029257845133543015, 0.06084468960762024, 0.04359244555234909, -0.001518908771686256, -0.03570011258125305, -0.05114314332604408, -0.04458589106798172, 0.026626985520124435, 0.0089951790869236, -0.023233169689774513, -0.050720565021038055, -0.051430296152830124, -0.04489864781498909, -0.04624497890472412, 0.08651333302259445, 0.08092207461595535, -0.002995053306221962, 0.08455993980169296, -0.007577294483780861, 0.07455261796712875, 0.009652900509536266, -0.012707640416920185, -0.005383799318224192, 0.019522570073604584], [-0.03721848502755165, -0.0033608265221118927, -0.035801004618406296, -0.04314219951629639, -0.04859987273812294, -0.014576083049178123, -0.028978798538446426, 0.03763676807284355, 0.03825030475854874, 0.060648348182439804, -0.05099032074213028, -0.03181956708431244, 0.0353706032037735, 0.07912788540124893, -0.0170962642878294, 0.03962601721286774, -0.03267199546098709, -0.048308201134204865, 0.022257549688220024, -0.004876242019236088, 0.050955623388290405, -0.02016608417034149, -0.0034930817782878876, -0.057155851274728775, -0.08544303476810455, -0.04161089286208153, 0.00830038171261549, -0.009554071351885796, -0.03428341820836067, 0.018163500353693962, 0.041447535157203674, 0.10824703425168991, 0.07430192083120346, -0.07802671939134598, 0.055024098604917526, 0.14392240345478058, -0.04301305487751961, 0.02625558339059353, 0.0329727865755558, 0.052087556570768356, -0.06228083372116089, -0.014263667166233063, -0.003303670324385166, -0.04889007657766342, 0.009747033938765526, -0.09387875348329544, -0.02785906009376049, -0.04328498616814613, 0.01942564733326435, 0.02716110646724701, -0.1322641372680664, -0.07997823506593704, -0.040137406438589096, 0.014391052536666393, -0.050979528576135635, 0.05826912075281143, -0.03600465506315231, 0.016276374459266663, -0.01907436177134514, -0.08467064797878265, -0.02009085938334465, 0.02547117881476879, 0.004425479099154472, -0.05430714413523674, -0.01059839129447937, 0.013779600150883198, -0.07746326923370361, 0.052920445799827576, -0.018466653302311897, -0.02010871097445488, 0.022672435268759727, -0.0970795601606369, -0.071718230843544, 0.0011040788376703858, 0.048319701105356216, 0.061241377145051956, 0.0582222156226635, 0.06486710160970688, 0.10346890985965729, -0.0791744589805603, 0.05892089009284973, 0.026603195816278458, -0.08120207488536835, 0.04339814931154251, -0.08462506532669067, -0.025505518540740013, -0.022124595940113068, 0.05373737961053848, 0.06514056026935577, 0.0413663424551487, -0.007921827025711536, -0.044244010001420975, -0.0711117535829544, 0.008456816896796227, -0.040756821632385254, -0.04692741110920906, -0.018657879903912544, 0.04351939633488655, 0.03242047131061554, -0.006969014648348093, -0.057056114077568054, -0.05679955706000328, -0.016751546412706375, -0.008410573936998844, -0.08581484109163284, 0.019104277715086937, -0.0280274860560894, 0.03676489740610123, 0.11286252737045288, 0.07688222825527191, -0.01943424716591835, 0.017982415854930878, -0.05562251806259155, -0.06029418110847473, 0.03879239410161972, -0.00021949938673060387, -0.06819804012775421, 0.040332160890102386, -0.0020695317070931196, -0.04600866883993149, -0.04479578882455826, 0.09289796650409698, 0.04481375589966774, -0.11304061114788055, -0.021097339689731598, -0.029149368405342102, -0.004398346412926912, 1.0141806733117696e-32, 0.031110165640711784, -0.01765420101583004, 0.0508304163813591, 0.04473582282662392, -0.00028434020350687206, 0.014523811638355255, 0.017059748992323875, 0.03875286877155304, -0.04095276817679405, -0.018314478918910027, -0.023777402937412262, 0.08178505301475525, -0.02097383886575699, -0.007024918682873249, -0.01747020147740841, -0.0759320929646492, 0.018370555713772774, 0.059261273592710495, -0.03671704977750778, 0.011108658276498318, -0.06825153529644012, -0.039622172713279724, -0.020222468301653862, 0.0019407965010032058, 0.11410155892372131, 0.02947787195444107, 0.08893918246030807, 0.05138152465224266, 0.012636972591280937, 0.01570366881787777, 0.05266039818525314, 0.03171994909644127, -0.0571511909365654, -0.0771154910326004, -0.01778370514512062, 0.04076380282640457, -0.07170955836772919, -0.06972046196460724, 0.012487735599279404, 0.04070819914340973, -0.09337811917066574, 0.02756362594664097, 0.019817858934402466, -0.008329074829816818, -0.030150655657052994, 0.02040550671517849, 0.09763147681951523, 0.07829335331916809, 0.0773264616727829, 0.03795087710022926, -0.03852737322449684, -0.07792826741933823, 0.05845153331756592, 0.05181700363755226, -0.009515083394944668, 0.04514702409505844, 0.025007598102092743, -0.0016355632105842233, 0.030467605218291283, 0.04030236974358559, -0.03410659730434418, 0.03278310224413872, -0.06222251057624817, 0.04453794285655022, 0.06111765280365944, -0.01960132084786892, -0.03055531531572342, -0.06188803166151047, 0.1264592558145523, -0.04015931114554405, -0.03772370517253876, -0.005092645063996315, 0.08785104006528854, 0.03090551681816578, -0.04401475936174393, -0.012894918210804462, -0.052554432302713394, 0.036000777035951614, 0.00967477448284626, 0.07000868767499924, -0.05748068913817406, 0.01265589240938425, 0.0003273159672971815, -0.018860341981053352, 0.07103268057107925, 0.037141915410757065, 0.002892100717872381, -0.006250232923775911, -0.051734887063503265, 0.05970282480120659, -0.02887297049164772, -0.013207025825977325, -0.032214149832725525, 0.1499791294336319, 0.012584925629198551, -9.680688951964914e-33, -0.018034901469945908, -0.06019426882266998, -0.04617404192686081, -0.004262511618435383, 0.12917174398899078, 0.024340642616152763, 0.01821943372488022, -0.024623533710837364, -0.020372051745653152, -0.024676481261849403, -0.031249485909938812, 0.010607108473777771, 0.0023225503973662853, 0.0007415576837956905, -0.07130520045757294, -0.0035052772145718336, -0.024202169850468636, 0.0009179968619719148, -0.01397683098912239, 0.00045096667599864304, -0.013042072765529156, 0.1576746255159378, -0.08983372151851654, 0.0025653282646089792, 0.018709518015384674, 0.05714428424835205, -0.013392663560807705, 0.04699369892477989, 0.010668857954442501, -0.02794550731778145, 0.0036778594367206097, 0.0018124970374628901, -0.15137439966201782, -0.0137697858735919, -0.025166170671582222, -0.06675553321838379, 0.030997922644019127, -0.11588171124458313, 0.06349755078554153, -0.004121984355151653, 0.02108793333172798, -0.021946106106042862, 0.01693624071776867, -0.025693977251648903, 0.03850362449884415, -0.03465742617845535, 0.05512605234980583, -0.04796747863292694, 0.013175912201404572, -0.012935959734022617, -0.047767769545316696, 0.06604013592004776, -0.06612838059663773, -0.0163659006357193, 0.05426530912518501, -0.0971924215555191, -0.027608290314674377, -0.03522198647260666, -0.004472397733479738, -0.032565511763095856, 0.15933245420455933, 0.030836407095193863, 0.08350469917058945, 0.09676192700862885, 0.022992145270109177, 0.0824916809797287, 0.10054745525121689, 0.03047596849501133, -0.041072409600019455, -0.06520687788724899, -0.012224581092596054, -0.022267771884799004, -0.0022973064333200455, -0.05379387363791466, 0.030835777521133423, -0.045482322573661804, -0.06800131499767303, -0.10006623715162277, -0.015578728169202805, -0.012427693232893944, -0.04609854519367218, -0.04549586772918701, -0.026157889515161514, 0.05525905266404152, -0.030583921819925308, 0.013002089224755764, 0.016771769151091576, -0.06568291038274765, 0.026820264756679535, -0.018921704962849617, -0.07771845906972885, -0.05872735753655434, -0.03159358352422714, 0.03460075706243515, 0.02400348149240017, -6.384323825159299e-08, -0.012426271103322506, 0.05162401124835014, -0.004003339912742376, -0.03082559071481228, -0.03732718154788017, -0.06756637990474701, -0.08372369408607483, 0.03231804445385933, 0.12320391833782196, 0.03590629994869232, 0.0420679897069931, -0.02557101473212242, -0.07291732728481293, 0.05817994847893715, 0.00827938225120306, -0.011010685935616493, 0.0014267520746216178, 0.08441139757633209, -0.02735777013003826, -0.061357855796813965, -0.020353274419903755, -0.0008205045014619827, -0.02042374573647976, 0.010826344601809978, 0.05093526840209961, -0.08358705043792725, 0.00933092925697565, 0.018639130517840385, 0.02473042719066143, -0.02628939598798752, -0.013040623627603054, -0.029076961800456047, 0.011453569866716862, 0.0035630320198833942, 0.0521211251616478, -0.05198926106095314, -0.009153996594250202, 0.025398528203368187, 0.05745501071214676, 0.07442595064640045, -0.04187116399407387, -0.02067285031080246, 0.0262686088681221, 0.06347372382879257, -0.06160528585314751, 0.025662295520305634, -0.03869576379656792, 0.05132565647363663, -0.03665333613753319, -0.04827664792537689, -0.04064953327178955, 0.017677919939160347, -0.021757937967777252, -0.06720318645238876, -0.029920851811766624, 0.1322750300168991, 0.05992788448929787, 0.00818319246172905, -0.0292864590883255, 0.045171335339546204, 0.058914653956890106, -0.059286996722221375, 0.014745171181857586, 0.01490861177444458]]\n"
          ]
        }
      ]
    },
    {
      "cell_type": "code",
      "source": [
        "import torch\n",
        "import torch.nn as nn\n",
        "import torch.optim as optim\n",
        "from torch.utils.data import TensorDataset, DataLoader\n",
        "\n",
        "# emb3ddings to pytorch tensors:\n",
        "train_embeddings_tensor = torch.tensor(train_embeddings)\n",
        "val_embeddings_tensor = torch.tensor(val_embeddings)\n",
        "\n",
        "# dataloader for training and validation:\n",
        "batch_size = 32\n",
        "train_dataset = TensorDataset(train_embeddings_tensor, train_labels)\n",
        "train_dataloader = DataLoader(train_dataset, batch_size=batch_size, shuffle=True)\n",
        "\n",
        "val_dataset = TensorDataset(val_embeddings_tensor, val_labels)\n",
        "val_dataloader = DataLoader(val_dataset, batch_size=batch_size, shuffle=False)\n"
      ],
      "metadata": {
        "id": "cjOLOi4uuUXt"
      },
      "id": "cjOLOi4uuUXt",
      "execution_count": 16,
      "outputs": []
    },
    {
      "cell_type": "code",
      "source": [
        "class LSTMModel(nn.Module):\n",
        "    def __init__(self, input_size, hidden_size, output_size):\n",
        "        super(LSTMModel, self).__init__()\n",
        "        self.lstm = nn.LSTM(input_size, hidden_size, batch_first=True)\n",
        "        self.fc = nn.Linear(hidden_size, output_size)\n",
        "\n",
        "    def forward(self, x):\n",
        "        _, (hn, _) = self.lstm(x)\n",
        "        output = self.fc(hn.squeeze(0))\n",
        "        return output\n"
      ],
      "metadata": {
        "id": "NAa-2fF-ubc5"
      },
      "id": "NAa-2fF-ubc5",
      "execution_count": 23,
      "outputs": []
    },
    {
      "cell_type": "code",
      "source": [
        "# Initialize the LSTM model, loss function, and optimizer\n",
        "input_size = train_embeddings_tensor.size(-1)\n",
        "hidden_size = 64\n",
        "output_size = 1  # binary classification\n",
        "lstm_model = LSTMModel(input_size, hidden_size, output_size)\n",
        "criterion = nn.BCEWithLogitsLoss()\n",
        "optimizer = optim.Adam(lstm_model.parameters(), lr=0.001)"
      ],
      "metadata": {
        "id": "0SGg_VhxuedX"
      },
      "id": "0SGg_VhxuedX",
      "execution_count": 24,
      "outputs": []
    },
    {
      "cell_type": "code",
      "source": [
        "epochs = 60\n",
        "losshistory=[]\n",
        "for epoch in range(epochs):\n",
        "    lstm_model.train()\n",
        "    total_loss = 0.0\n",
        "    correct_predictions = 0\n",
        "    total_samples = 0\n",
        "\n",
        "    for inputs, labels in train_dataloader:\n",
        "        optimizer.zero_grad()\n",
        "        # outputs = lstm_model(inputs.float())\n",
        "        outputs = lstm_model(inputs.unsqueeze(1).float())\n",
        "        loss = criterion(outputs.squeeze(), labels.float())\n",
        "        loss.backward()\n",
        "        optimizer.step()\n",
        "        # total loss:\n",
        "        total_loss += loss.item()\n",
        "        # accuracy\n",
        "        predictions = torch.sigmoid(outputs.squeeze())\n",
        "        predicted_labels = (predictions > 0.5).float()\n",
        "        correct_predictions += (predicted_labels == labels).sum().item()\n",
        "        total_samples += labels.size(0)\n",
        "\n",
        "    # average loss and accuracy\n",
        "    average_loss = total_loss / len(train_dataloader)\n",
        "    losshistory.append(average_loss)\n",
        "    accuracy = correct_predictions / total_samples\n",
        "\n",
        "    print(f'Epoch [{epoch + 1}/{epochs}], Loss: {average_loss:.4f}, Accuracy: {accuracy:.4f}')\n",
        "\n",
        "\n"
      ],
      "metadata": {
        "colab": {
          "base_uri": "https://localhost:8080/",
          "height": 1000
        },
        "id": "BeXeeJT9ugcq",
        "outputId": "1877acba-1928-4be4-a9c8-1432fada9efd"
      },
      "id": "BeXeeJT9ugcq",
      "execution_count": 25,
      "outputs": [
        {
          "output_type": "stream",
          "name": "stdout",
          "text": [
            "Epoch [1/60], Loss: 0.1839, Accuracy: 0.9688\n",
            "Epoch [2/60], Loss: 0.1169, Accuracy: 0.9688\n",
            "Epoch [3/60], Loss: 0.1001, Accuracy: 0.9708\n",
            "Epoch [4/60], Loss: 0.0901, Accuracy: 0.9728\n",
            "Epoch [5/60], Loss: 0.0845, Accuracy: 0.9750\n",
            "Epoch [6/60], Loss: 0.0796, Accuracy: 0.9759\n",
            "Epoch [7/60], Loss: 0.0767, Accuracy: 0.9774\n",
            "Epoch [8/60], Loss: 0.0740, Accuracy: 0.9777\n",
            "Epoch [9/60], Loss: 0.0714, Accuracy: 0.9784\n",
            "Epoch [10/60], Loss: 0.0690, Accuracy: 0.9788\n",
            "Epoch [11/60], Loss: 0.0659, Accuracy: 0.9807\n",
            "Epoch [12/60], Loss: 0.0640, Accuracy: 0.9797\n",
            "Epoch [13/60], Loss: 0.0617, Accuracy: 0.9809\n",
            "Epoch [14/60], Loss: 0.0588, Accuracy: 0.9814\n",
            "Epoch [15/60], Loss: 0.0578, Accuracy: 0.9823\n",
            "Epoch [16/60], Loss: 0.0559, Accuracy: 0.9821\n",
            "Epoch [17/60], Loss: 0.0534, Accuracy: 0.9846\n",
            "Epoch [18/60], Loss: 0.0514, Accuracy: 0.9846\n",
            "Epoch [19/60], Loss: 0.0497, Accuracy: 0.9855\n",
            "Epoch [20/60], Loss: 0.0492, Accuracy: 0.9851\n",
            "Epoch [21/60], Loss: 0.0464, Accuracy: 0.9862\n",
            "Epoch [22/60], Loss: 0.0450, Accuracy: 0.9866\n",
            "Epoch [23/60], Loss: 0.0439, Accuracy: 0.9869\n",
            "Epoch [24/60], Loss: 0.0422, Accuracy: 0.9877\n",
            "Epoch [25/60], Loss: 0.0402, Accuracy: 0.9885\n",
            "Epoch [26/60], Loss: 0.0383, Accuracy: 0.9888\n",
            "Epoch [27/60], Loss: 0.0366, Accuracy: 0.9891\n",
            "Epoch [28/60], Loss: 0.0350, Accuracy: 0.9890\n",
            "Epoch [29/60], Loss: 0.0333, Accuracy: 0.9900\n",
            "Epoch [30/60], Loss: 0.0318, Accuracy: 0.9906\n",
            "Epoch [31/60], Loss: 0.0307, Accuracy: 0.9914\n",
            "Epoch [32/60], Loss: 0.0286, Accuracy: 0.9915\n",
            "Epoch [33/60], Loss: 0.0271, Accuracy: 0.9917\n",
            "Epoch [34/60], Loss: 0.0252, Accuracy: 0.9926\n",
            "Epoch [35/60], Loss: 0.0244, Accuracy: 0.9927\n",
            "Epoch [36/60], Loss: 0.0226, Accuracy: 0.9931\n",
            "Epoch [37/60], Loss: 0.0211, Accuracy: 0.9935\n",
            "Epoch [38/60], Loss: 0.0195, Accuracy: 0.9941\n",
            "Epoch [39/60], Loss: 0.0178, Accuracy: 0.9949\n",
            "Epoch [40/60], Loss: 0.0169, Accuracy: 0.9949\n",
            "Epoch [41/60], Loss: 0.0157, Accuracy: 0.9958\n",
            "Epoch [42/60], Loss: 0.0145, Accuracy: 0.9961\n",
            "Epoch [43/60], Loss: 0.0127, Accuracy: 0.9967\n",
            "Epoch [44/60], Loss: 0.0121, Accuracy: 0.9966\n",
            "Epoch [45/60], Loss: 0.0106, Accuracy: 0.9973\n",
            "Epoch [46/60], Loss: 0.0097, Accuracy: 0.9979\n",
            "Epoch [47/60], Loss: 0.0089, Accuracy: 0.9981\n",
            "Epoch [48/60], Loss: 0.0081, Accuracy: 0.9986\n",
            "Epoch [49/60], Loss: 0.0068, Accuracy: 0.9988\n",
            "Epoch [50/60], Loss: 0.0061, Accuracy: 0.9993\n",
            "Epoch [51/60], Loss: 0.0057, Accuracy: 0.9990\n",
            "Epoch [52/60], Loss: 0.0048, Accuracy: 0.9997\n",
            "Epoch [53/60], Loss: 0.0043, Accuracy: 0.9997\n",
            "Epoch [54/60], Loss: 0.0040, Accuracy: 0.9997\n",
            "Epoch [55/60], Loss: 0.0035, Accuracy: 0.9998\n",
            "Epoch [56/60], Loss: 0.0029, Accuracy: 0.9999\n",
            "Epoch [57/60], Loss: 0.0027, Accuracy: 0.9999\n",
            "Epoch [58/60], Loss: 0.0023, Accuracy: 1.0000\n",
            "Epoch [59/60], Loss: 0.0022, Accuracy: 0.9999\n",
            "Epoch [60/60], Loss: 0.0018, Accuracy: 1.0000\n"
          ]
        },
        {
          "output_type": "error",
          "ename": "TypeError",
          "evalue": "iteration over a 0-d array",
          "traceback": [
            "\u001b[0;31m---------------------------------------------------------------------------\u001b[0m",
            "\u001b[0;31mTypeError\u001b[0m                                 Traceback (most recent call last)",
            "\u001b[0;32m<ipython-input-25-d97cbe88727a>\u001b[0m in \u001b[0;36m<cell line: 0>\u001b[0;34m()\u001b[0m\n\u001b[1;32m     36\u001b[0m         \u001b[0moutputs\u001b[0m \u001b[0;34m=\u001b[0m \u001b[0mlstm_model\u001b[0m\u001b[0;34m(\u001b[0m\u001b[0minputs\u001b[0m\u001b[0;34m.\u001b[0m\u001b[0mfloat\u001b[0m\u001b[0;34m(\u001b[0m\u001b[0;34m)\u001b[0m\u001b[0;34m)\u001b[0m\u001b[0;34m\u001b[0m\u001b[0;34m\u001b[0m\u001b[0m\n\u001b[1;32m     37\u001b[0m         \u001b[0mpredictions\u001b[0m \u001b[0;34m=\u001b[0m \u001b[0mtorch\u001b[0m\u001b[0;34m.\u001b[0m\u001b[0msigmoid\u001b[0m\u001b[0;34m(\u001b[0m\u001b[0moutputs\u001b[0m\u001b[0;34m.\u001b[0m\u001b[0msqueeze\u001b[0m\u001b[0;34m(\u001b[0m\u001b[0;34m)\u001b[0m\u001b[0;34m)\u001b[0m\u001b[0;34m\u001b[0m\u001b[0;34m\u001b[0m\u001b[0m\n\u001b[0;32m---> 38\u001b[0;31m         \u001b[0mval_predictions\u001b[0m\u001b[0;34m.\u001b[0m\u001b[0mextend\u001b[0m\u001b[0;34m(\u001b[0m\u001b[0mpredictions\u001b[0m\u001b[0;34m.\u001b[0m\u001b[0mnumpy\u001b[0m\u001b[0;34m(\u001b[0m\u001b[0;34m)\u001b[0m\u001b[0;34m)\u001b[0m\u001b[0;34m\u001b[0m\u001b[0;34m\u001b[0m\u001b[0m\n\u001b[0m",
            "\u001b[0;31mTypeError\u001b[0m: iteration over a 0-d array"
          ]
        }
      ]
    },
    {
      "cell_type": "code",
      "source": [
        "# evaluation on the validation dataset\n",
        "lstm_model.eval()\n",
        "val_predictions = []\n",
        "with torch.no_grad():\n",
        "    for inputs, labels in val_dataloader:\n",
        "        # outputs = lstm_model(inputs.float())\n",
        "        outputs = lstm_model(inputs.unsqueeze(1).float())\n",
        "        predictions = torch.sigmoid(outputs.squeeze())\n",
        "        val_predictions.extend(predictions.numpy())"
      ],
      "metadata": {
        "id": "SHWhaExouuTb"
      },
      "id": "SHWhaExouuTb",
      "execution_count": 26,
      "outputs": []
    },
    {
      "cell_type": "code",
      "source": [
        "import numpy as np\n",
        "from sklearn.metrics import precision_score, recall_score, f1_score\n",
        "\n",
        "# validation predictions to binary predictions:\n",
        "val_predictions_binary = (np.array(val_predictions) > 0.5).astype(int)\n",
        "\n",
        "# validation labels to numpy arrays\n",
        "val_labels_numpy = val_labels.numpy()\n",
        "\n",
        "# accuracy\n",
        "accuracy = np.sum(val_predictions_binary == val_labels_numpy) / len(val_labels_numpy)\n",
        "\n",
        "# precision, recall, and f1 score\n",
        "precision = precision_score(val_labels_numpy, val_predictions_binary)\n",
        "recall = recall_score(val_labels_numpy, val_predictions_binary)\n",
        "f1 = f1_score(val_labels_numpy, val_predictions_binary)\n",
        "\n",
        "print(f'Validation Accuracy: {accuracy:.4f}')\n",
        "print(f'Precision: {precision:.4f}')\n",
        "print(f'Recall: {recall:.4f}')\n",
        "print(f'F1 Score: {f1:.4f}')"
      ],
      "metadata": {
        "colab": {
          "base_uri": "https://localhost:8080/"
        },
        "id": "icVEV0qF7Jo-",
        "outputId": "4220c215-ee1d-453c-9d5a-83eb2665fa6c"
      },
      "id": "icVEV0qF7Jo-",
      "execution_count": 27,
      "outputs": [
        {
          "output_type": "stream",
          "name": "stdout",
          "text": [
            "Validation Accuracy: 0.9833\n",
            "Precision: 0.8511\n",
            "Recall: 0.6218\n",
            "F1 Score: 0.7186\n"
          ]
        }
      ]
    }
  ],
  "metadata": {
    "kernelspec": {
      "display_name": "Python 3",
      "name": "python3"
    },
    "language_info": {
      "codemirror_mode": {
        "name": "ipython",
        "version": 3
      },
      "file_extension": ".py",
      "mimetype": "text/x-python",
      "name": "python",
      "nbconvert_exporter": "python",
      "pygments_lexer": "ipython3",
      "version": "3.12.1"
    },
    "colab": {
      "provenance": [],
      "gpuType": "V28"
    },
    "accelerator": "TPU"
  },
  "nbformat": 4,
  "nbformat_minor": 5
}